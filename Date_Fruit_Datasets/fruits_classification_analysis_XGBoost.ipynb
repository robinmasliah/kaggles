{
 "cells": [
  {
   "cell_type": "code",
   "execution_count": 31,
   "metadata": {},
   "outputs": [],
   "source": [
    "import pandas as pd\n",
    "import numpy as np\n",
    "\n",
    "from sklearn.model_selection import train_test_split\n",
    "from sklearn.preprocessing import OrdinalEncoder\n",
    "import seaborn as sns\n",
    "\n",
    "import matplotlib.pyplot as plt\n",
    "plt.rcParams[\"figure.figsize\"] = (30, 20)\n",
    "import matplotlib\n",
    "matplotlib.get_backend()\n",
    "%matplotlib inline\n",
    "plt.style.use('seaborn')\n",
    "import re\n",
    "import scikitplot as skplt\n",
    "\n",
    "from keras.datasets import mnist\n",
    "from keras.models import Sequential\n",
    "from keras.layers import Dense\n",
    "from keras.utils import np_utils\n",
    "from imblearn.over_sampling import ADASYN\n",
    "\n",
    "from sklearn.model_selection import KFold\n",
    "\n",
    "from sklearn.metrics import roc_curve, auc, confusion_matrix, classification_report, accuracy_score\n",
    "from sklearn.model_selection import KFold, cross_val_score\n",
    "from sklearn.ensemble import GradientBoostingClassifier, RandomForestClassifier, VotingClassifier\n",
    "from sklearn.linear_model import LogisticRegression\n",
    "from xgboost import XGBClassifier\n",
    "from keras.wrappers.scikit_learn import KerasClassifier"
   ]
  },
  {
   "cell_type": "code",
   "execution_count": 3,
   "metadata": {},
   "outputs": [],
   "source": [
    "def score_cross_val(scores):\n",
    "    \n",
    "    # Scores sur cross validation\n",
    "    scores = pd.DataFrame(scores)\n",
    "    scores.plot()\n",
    "\n",
    "    plt.xlabel('CV')\n",
    "    plt.ylabel('Score')\n",
    "    plt.title(\"Scores sur le train de chaque cross validation\")\n",
    "\n",
    "    plt.axis()\n",
    "    plt.legend(\"scores\", loc='upper center')\n",
    "    plt.show()\n",
    "\n",
    "def plot_roc_auc_curve(model, X_test, y_test):\n",
    "    \n",
    "    # overall accuracy\n",
    "    acc = model.score(X_test, y_test)\n",
    "\n",
    "    # get roc/auc info\n",
    "    # predict_proba is the porbability that X takes a class\n",
    "    Y_score = model.predict_proba(X_test)[:, 1] \n",
    "    fpr = dict()\n",
    "    tpr = dict()\n",
    "    fpr, tpr, _ = roc_curve(y_test, Y_score)\n",
    "\n",
    "    roc_auc = dict()\n",
    "    roc_auc = auc(fpr, tpr)\n",
    "\n",
    "    # make the plot\n",
    "    plt.figure(figsize=(10, 10))\n",
    "    plt.plot([0, 1], [0, 1], 'k--')\n",
    "    plt.xlim([-0.05, 1.0])\n",
    "    plt.ylim([0.0, 1.05])\n",
    "    plt.xlabel('False Positive Rate')\n",
    "    plt.ylabel('True Positive Rate')\n",
    "    plt.grid(True)\n",
    "    plt.plot(fpr, tpr, label='AUC = {0}'.format(roc_auc))\n",
    "    plt.legend(loc=\"lower right\", shadow=True, fancybox=True)\n",
    "    plt.title('ROC curve and AUC')\n",
    "    plt.show()\n",
    "\n",
    "\n",
    "def plot_corr_matrix(df):\n",
    "    \n",
    "    data_correlation = df[list(df.columns)].corr()\n",
    "    mask = np.array(data_correlation)\n",
    "    mask[np.tril_indices_from(mask)] = False\n",
    "    fig = plt.subplots(figsize=(30,20))\n",
    "    sns.heatmap(data_correlation, mask=mask, vmax=1, square=True, annot=True);"
   ]
  },
  {
   "cell_type": "code",
   "execution_count": 4,
   "metadata": {},
   "outputs": [],
   "source": [
    "df = pd.read_excel('Date_Fruit_Datasets.xlsx')\n",
    "df = df.sample(frac=1).reset_index(drop=True)"
   ]
  },
  {
   "cell_type": "code",
   "execution_count": 5,
   "metadata": {},
   "outputs": [
    {
     "data": {
      "text/html": [
       "<div>\n",
       "<style scoped>\n",
       "    .dataframe tbody tr th:only-of-type {\n",
       "        vertical-align: middle;\n",
       "    }\n",
       "\n",
       "    .dataframe tbody tr th {\n",
       "        vertical-align: top;\n",
       "    }\n",
       "\n",
       "    .dataframe thead th {\n",
       "        text-align: right;\n",
       "    }\n",
       "</style>\n",
       "<table border=\"1\" class=\"dataframe\">\n",
       "  <thead>\n",
       "    <tr style=\"text-align: right;\">\n",
       "      <th></th>\n",
       "      <th>AREA</th>\n",
       "      <th>PERIMETER</th>\n",
       "      <th>MAJOR_AXIS</th>\n",
       "      <th>MINOR_AXIS</th>\n",
       "      <th>ECCENTRICITY</th>\n",
       "      <th>EQDIASQ</th>\n",
       "      <th>SOLIDITY</th>\n",
       "      <th>CONVEX_AREA</th>\n",
       "      <th>EXTENT</th>\n",
       "      <th>ASPECT_RATIO</th>\n",
       "      <th>...</th>\n",
       "      <th>SkewRB</th>\n",
       "      <th>KurtosisRR</th>\n",
       "      <th>KurtosisRG</th>\n",
       "      <th>KurtosisRB</th>\n",
       "      <th>EntropyRR</th>\n",
       "      <th>EntropyRG</th>\n",
       "      <th>EntropyRB</th>\n",
       "      <th>ALLdaub4RR</th>\n",
       "      <th>ALLdaub4RG</th>\n",
       "      <th>ALLdaub4RB</th>\n",
       "    </tr>\n",
       "  </thead>\n",
       "  <tbody>\n",
       "    <tr>\n",
       "      <th>count</th>\n",
       "      <td>898.000000</td>\n",
       "      <td>898.000000</td>\n",
       "      <td>898.000000</td>\n",
       "      <td>898.000000</td>\n",
       "      <td>898.000000</td>\n",
       "      <td>898.000000</td>\n",
       "      <td>898.000000</td>\n",
       "      <td>898.000000</td>\n",
       "      <td>898.000000</td>\n",
       "      <td>898.000000</td>\n",
       "      <td>...</td>\n",
       "      <td>898.000000</td>\n",
       "      <td>898.000000</td>\n",
       "      <td>898.000000</td>\n",
       "      <td>898.000000</td>\n",
       "      <td>8.980000e+02</td>\n",
       "      <td>8.980000e+02</td>\n",
       "      <td>8.980000e+02</td>\n",
       "      <td>898.000000</td>\n",
       "      <td>898.000000</td>\n",
       "      <td>898.000000</td>\n",
       "    </tr>\n",
       "    <tr>\n",
       "      <th>mean</th>\n",
       "      <td>298295.207127</td>\n",
       "      <td>2057.660953</td>\n",
       "      <td>750.811994</td>\n",
       "      <td>495.872785</td>\n",
       "      <td>0.737468</td>\n",
       "      <td>604.577938</td>\n",
       "      <td>0.981840</td>\n",
       "      <td>303845.592428</td>\n",
       "      <td>0.736267</td>\n",
       "      <td>2.131102</td>\n",
       "      <td>...</td>\n",
       "      <td>0.250518</td>\n",
       "      <td>4.247845</td>\n",
       "      <td>5.110894</td>\n",
       "      <td>3.780928</td>\n",
       "      <td>-3.185021e+10</td>\n",
       "      <td>-2.901860e+10</td>\n",
       "      <td>-2.771876e+10</td>\n",
       "      <td>50.082888</td>\n",
       "      <td>48.805681</td>\n",
       "      <td>48.098393</td>\n",
       "    </tr>\n",
       "    <tr>\n",
       "      <th>std</th>\n",
       "      <td>107245.205337</td>\n",
       "      <td>410.012459</td>\n",
       "      <td>144.059326</td>\n",
       "      <td>114.268917</td>\n",
       "      <td>0.088727</td>\n",
       "      <td>119.593888</td>\n",
       "      <td>0.018157</td>\n",
       "      <td>108815.656947</td>\n",
       "      <td>0.053745</td>\n",
       "      <td>17.820778</td>\n",
       "      <td>...</td>\n",
       "      <td>0.632918</td>\n",
       "      <td>2.892357</td>\n",
       "      <td>3.745463</td>\n",
       "      <td>2.049831</td>\n",
       "      <td>2.037241e+10</td>\n",
       "      <td>1.712952e+10</td>\n",
       "      <td>1.484137e+10</td>\n",
       "      <td>16.063125</td>\n",
       "      <td>14.125911</td>\n",
       "      <td>10.813862</td>\n",
       "    </tr>\n",
       "    <tr>\n",
       "      <th>min</th>\n",
       "      <td>1987.000000</td>\n",
       "      <td>911.828000</td>\n",
       "      <td>336.722700</td>\n",
       "      <td>2.283200</td>\n",
       "      <td>0.344800</td>\n",
       "      <td>50.298400</td>\n",
       "      <td>0.836600</td>\n",
       "      <td>2257.000000</td>\n",
       "      <td>0.512300</td>\n",
       "      <td>1.065300</td>\n",
       "      <td>...</td>\n",
       "      <td>-1.029100</td>\n",
       "      <td>1.708200</td>\n",
       "      <td>1.607600</td>\n",
       "      <td>1.767200</td>\n",
       "      <td>-1.091224e+11</td>\n",
       "      <td>-9.261697e+10</td>\n",
       "      <td>-8.747177e+10</td>\n",
       "      <td>15.191100</td>\n",
       "      <td>20.524700</td>\n",
       "      <td>22.130000</td>\n",
       "    </tr>\n",
       "    <tr>\n",
       "      <th>25%</th>\n",
       "      <td>206948.000000</td>\n",
       "      <td>1726.091500</td>\n",
       "      <td>641.068650</td>\n",
       "      <td>404.684375</td>\n",
       "      <td>0.685625</td>\n",
       "      <td>513.317075</td>\n",
       "      <td>0.978825</td>\n",
       "      <td>210022.750000</td>\n",
       "      <td>0.705875</td>\n",
       "      <td>1.373725</td>\n",
       "      <td>...</td>\n",
       "      <td>-0.196950</td>\n",
       "      <td>2.536625</td>\n",
       "      <td>2.508850</td>\n",
       "      <td>2.577275</td>\n",
       "      <td>-4.429444e+10</td>\n",
       "      <td>-3.894638e+10</td>\n",
       "      <td>-3.564534e+10</td>\n",
       "      <td>38.224425</td>\n",
       "      <td>38.654525</td>\n",
       "      <td>39.250725</td>\n",
       "    </tr>\n",
       "    <tr>\n",
       "      <th>50%</th>\n",
       "      <td>319833.000000</td>\n",
       "      <td>2196.345450</td>\n",
       "      <td>791.363400</td>\n",
       "      <td>495.054850</td>\n",
       "      <td>0.754700</td>\n",
       "      <td>638.140950</td>\n",
       "      <td>0.987300</td>\n",
       "      <td>327207.000000</td>\n",
       "      <td>0.746950</td>\n",
       "      <td>1.524150</td>\n",
       "      <td>...</td>\n",
       "      <td>0.135550</td>\n",
       "      <td>3.069800</td>\n",
       "      <td>3.127800</td>\n",
       "      <td>3.080700</td>\n",
       "      <td>-2.826156e+10</td>\n",
       "      <td>-2.620990e+10</td>\n",
       "      <td>-2.392928e+10</td>\n",
       "      <td>53.841300</td>\n",
       "      <td>50.337800</td>\n",
       "      <td>49.614100</td>\n",
       "    </tr>\n",
       "    <tr>\n",
       "      <th>75%</th>\n",
       "      <td>382573.000000</td>\n",
       "      <td>2389.716575</td>\n",
       "      <td>858.633750</td>\n",
       "      <td>589.031700</td>\n",
       "      <td>0.802150</td>\n",
       "      <td>697.930525</td>\n",
       "      <td>0.991800</td>\n",
       "      <td>388804.000000</td>\n",
       "      <td>0.775850</td>\n",
       "      <td>1.674750</td>\n",
       "      <td>...</td>\n",
       "      <td>0.593950</td>\n",
       "      <td>4.449850</td>\n",
       "      <td>7.320400</td>\n",
       "      <td>4.283125</td>\n",
       "      <td>-1.460482e+10</td>\n",
       "      <td>-1.433105e+10</td>\n",
       "      <td>-1.660367e+10</td>\n",
       "      <td>63.063350</td>\n",
       "      <td>59.573600</td>\n",
       "      <td>56.666675</td>\n",
       "    </tr>\n",
       "    <tr>\n",
       "      <th>max</th>\n",
       "      <td>546063.000000</td>\n",
       "      <td>2811.997100</td>\n",
       "      <td>1222.723000</td>\n",
       "      <td>766.453600</td>\n",
       "      <td>1.000000</td>\n",
       "      <td>833.827900</td>\n",
       "      <td>0.997400</td>\n",
       "      <td>552598.000000</td>\n",
       "      <td>0.856200</td>\n",
       "      <td>535.525700</td>\n",
       "      <td>...</td>\n",
       "      <td>3.092300</td>\n",
       "      <td>26.171100</td>\n",
       "      <td>26.736700</td>\n",
       "      <td>32.249500</td>\n",
       "      <td>-1.627316e+08</td>\n",
       "      <td>-5.627727e+08</td>\n",
       "      <td>-4.370435e+08</td>\n",
       "      <td>79.828900</td>\n",
       "      <td>83.064900</td>\n",
       "      <td>74.104600</td>\n",
       "    </tr>\n",
       "  </tbody>\n",
       "</table>\n",
       "<p>8 rows × 34 columns</p>\n",
       "</div>"
      ],
      "text/plain": [
       "                AREA    PERIMETER   MAJOR_AXIS  MINOR_AXIS  ECCENTRICITY  \\\n",
       "count     898.000000   898.000000   898.000000  898.000000    898.000000   \n",
       "mean   298295.207127  2057.660953   750.811994  495.872785      0.737468   \n",
       "std    107245.205337   410.012459   144.059326  114.268917      0.088727   \n",
       "min      1987.000000   911.828000   336.722700    2.283200      0.344800   \n",
       "25%    206948.000000  1726.091500   641.068650  404.684375      0.685625   \n",
       "50%    319833.000000  2196.345450   791.363400  495.054850      0.754700   \n",
       "75%    382573.000000  2389.716575   858.633750  589.031700      0.802150   \n",
       "max    546063.000000  2811.997100  1222.723000  766.453600      1.000000   \n",
       "\n",
       "          EQDIASQ    SOLIDITY    CONVEX_AREA      EXTENT  ASPECT_RATIO  ...  \\\n",
       "count  898.000000  898.000000     898.000000  898.000000    898.000000  ...   \n",
       "mean   604.577938    0.981840  303845.592428    0.736267      2.131102  ...   \n",
       "std    119.593888    0.018157  108815.656947    0.053745     17.820778  ...   \n",
       "min     50.298400    0.836600    2257.000000    0.512300      1.065300  ...   \n",
       "25%    513.317075    0.978825  210022.750000    0.705875      1.373725  ...   \n",
       "50%    638.140950    0.987300  327207.000000    0.746950      1.524150  ...   \n",
       "75%    697.930525    0.991800  388804.000000    0.775850      1.674750  ...   \n",
       "max    833.827900    0.997400  552598.000000    0.856200    535.525700  ...   \n",
       "\n",
       "           SkewRB  KurtosisRR  KurtosisRG  KurtosisRB     EntropyRR  \\\n",
       "count  898.000000  898.000000  898.000000  898.000000  8.980000e+02   \n",
       "mean     0.250518    4.247845    5.110894    3.780928 -3.185021e+10   \n",
       "std      0.632918    2.892357    3.745463    2.049831  2.037241e+10   \n",
       "min     -1.029100    1.708200    1.607600    1.767200 -1.091224e+11   \n",
       "25%     -0.196950    2.536625    2.508850    2.577275 -4.429444e+10   \n",
       "50%      0.135550    3.069800    3.127800    3.080700 -2.826156e+10   \n",
       "75%      0.593950    4.449850    7.320400    4.283125 -1.460482e+10   \n",
       "max      3.092300   26.171100   26.736700   32.249500 -1.627316e+08   \n",
       "\n",
       "          EntropyRG     EntropyRB  ALLdaub4RR  ALLdaub4RG  ALLdaub4RB  \n",
       "count  8.980000e+02  8.980000e+02  898.000000  898.000000  898.000000  \n",
       "mean  -2.901860e+10 -2.771876e+10   50.082888   48.805681   48.098393  \n",
       "std    1.712952e+10  1.484137e+10   16.063125   14.125911   10.813862  \n",
       "min   -9.261697e+10 -8.747177e+10   15.191100   20.524700   22.130000  \n",
       "25%   -3.894638e+10 -3.564534e+10   38.224425   38.654525   39.250725  \n",
       "50%   -2.620990e+10 -2.392928e+10   53.841300   50.337800   49.614100  \n",
       "75%   -1.433105e+10 -1.660367e+10   63.063350   59.573600   56.666675  \n",
       "max   -5.627727e+08 -4.370435e+08   79.828900   83.064900   74.104600  \n",
       "\n",
       "[8 rows x 34 columns]"
      ]
     },
     "execution_count": 5,
     "metadata": {},
     "output_type": "execute_result"
    }
   ],
   "source": [
    "df.describe()"
   ]
  },
  {
   "cell_type": "code",
   "execution_count": 6,
   "metadata": {},
   "outputs": [
    {
     "data": {
      "text/plain": [
       "Index(['AREA', 'PERIMETER', 'MAJOR_AXIS', 'MINOR_AXIS', 'ECCENTRICITY',\n",
       "       'EQDIASQ', 'SOLIDITY', 'CONVEX_AREA', 'EXTENT', 'ASPECT_RATIO',\n",
       "       'ROUNDNESS', 'COMPACTNESS', 'SHAPEFACTOR_1', 'SHAPEFACTOR_2',\n",
       "       'SHAPEFACTOR_3', 'SHAPEFACTOR_4', 'MeanRR', 'MeanRG', 'MeanRB',\n",
       "       'StdDevRR', 'StdDevRG', 'StdDevRB', 'SkewRR', 'SkewRG', 'SkewRB',\n",
       "       'KurtosisRR', 'KurtosisRG', 'KurtosisRB', 'EntropyRR', 'EntropyRG',\n",
       "       'EntropyRB', 'ALLdaub4RR', 'ALLdaub4RG', 'ALLdaub4RB', 'Class'],\n",
       "      dtype='object')"
      ]
     },
     "execution_count": 6,
     "metadata": {},
     "output_type": "execute_result"
    }
   ],
   "source": [
    "df.columns"
   ]
  },
  {
   "cell_type": "code",
   "execution_count": 7,
   "metadata": {},
   "outputs": [
    {
     "data": {
      "text/plain": [
       "AREA               int64\n",
       "PERIMETER        float64\n",
       "MAJOR_AXIS       float64\n",
       "MINOR_AXIS       float64\n",
       "ECCENTRICITY     float64\n",
       "EQDIASQ          float64\n",
       "SOLIDITY         float64\n",
       "CONVEX_AREA        int64\n",
       "EXTENT           float64\n",
       "ASPECT_RATIO     float64\n",
       "ROUNDNESS        float64\n",
       "COMPACTNESS      float64\n",
       "SHAPEFACTOR_1    float64\n",
       "SHAPEFACTOR_2    float64\n",
       "SHAPEFACTOR_3    float64\n",
       "SHAPEFACTOR_4    float64\n",
       "MeanRR           float64\n",
       "MeanRG           float64\n",
       "MeanRB           float64\n",
       "StdDevRR         float64\n",
       "StdDevRG         float64\n",
       "StdDevRB         float64\n",
       "SkewRR           float64\n",
       "SkewRG           float64\n",
       "SkewRB           float64\n",
       "KurtosisRR       float64\n",
       "KurtosisRG       float64\n",
       "KurtosisRB       float64\n",
       "EntropyRR          int64\n",
       "EntropyRG          int64\n",
       "EntropyRB          int64\n",
       "ALLdaub4RR       float64\n",
       "ALLdaub4RG       float64\n",
       "ALLdaub4RB       float64\n",
       "Class             object\n",
       "dtype: object"
      ]
     },
     "execution_count": 7,
     "metadata": {},
     "output_type": "execute_result"
    }
   ],
   "source": [
    "df.dtypes"
   ]
  },
  {
   "cell_type": "code",
   "execution_count": 8,
   "metadata": {},
   "outputs": [
    {
     "data": {
      "text/plain": [
       "DOKOL     0.227171\n",
       "SAFAVI    0.221604\n",
       "ROTANA    0.184855\n",
       "DEGLET    0.109131\n",
       "SOGAY     0.104677\n",
       "IRAQI     0.080178\n",
       "BERHI     0.072383\n",
       "Name: Class, dtype: float64"
      ]
     },
     "execution_count": 8,
     "metadata": {},
     "output_type": "execute_result"
    }
   ],
   "source": [
    "df.Class.value_counts(normalize=True)"
   ]
  },
  {
   "cell_type": "code",
   "execution_count": 9,
   "metadata": {},
   "outputs": [
    {
     "data": {
      "text/plain": [
       "{'BERHI', 'DEGLET', 'DOKOL', 'IRAQI', 'ROTANA', 'SAFAVI', 'SOGAY'}"
      ]
     },
     "execution_count": 9,
     "metadata": {},
     "output_type": "execute_result"
    }
   ],
   "source": [
    "set(df.Class)"
   ]
  },
  {
   "cell_type": "code",
   "execution_count": 10,
   "metadata": {},
   "outputs": [
    {
     "data": {
      "text/plain": [
       "(898, 35)"
      ]
     },
     "execution_count": 10,
     "metadata": {},
     "output_type": "execute_result"
    }
   ],
   "source": [
    "df.shape"
   ]
  },
  {
   "cell_type": "code",
   "execution_count": 11,
   "metadata": {},
   "outputs": [],
   "source": [
    "ord_enc = OrdinalEncoder()\n",
    "df[\"Class\"] = ord_enc.fit_transform(df[[\"Class\"]])"
   ]
  },
  {
   "cell_type": "code",
   "execution_count": 12,
   "metadata": {},
   "outputs": [
    {
     "name": "stderr",
     "output_type": "stream",
     "text": [
      "/Users/robinmasliah/opt/anaconda3/lib/python3.7/site-packages/ipykernel_launcher.py:4: DeprecationWarning: `np.bool` is a deprecated alias for the builtin `bool`. To silence this warning, use `bool` by itself. Doing this will not modify any behavior and is safe. If you specifically wanted the numpy scalar type, use `np.bool_` here.\n",
      "Deprecated in NumPy 1.20; for more details and guidance: https://numpy.org/devdocs/release/1.20.0-notes.html#deprecations\n",
      "  after removing the cwd from sys.path.\n"
     ]
    },
    {
     "data": {
      "image/png": "[encoded data removed]",
      "text/plain": [
       "<Figure size 720x576 with 2 Axes>"
      ]
     },
     "metadata": {},
     "output_type": "display_data"
    }
   ],
   "source": [
    "# Etude des corrélations entre les features\n",
    "f, ax = plt.subplots(figsize=(10, 8))\n",
    "corr = df.corr()\n",
    "sns.heatmap(corr, mask=np.zeros_like(corr, dtype=np.bool), cmap=sns.diverging_palette(220, 10, as_cmap=True),\n",
    "            square=True, ax=ax);"
   ]
  },
  {
   "cell_type": "code",
   "execution_count": 13,
   "metadata": {},
   "outputs": [],
   "source": [
    "X = df.loc[:, df.columns != 'Class']\n",
    "y = df['Class']"
   ]
  },
  {
   "cell_type": "code",
   "execution_count": 14,
   "metadata": {},
   "outputs": [],
   "source": [
    "# Over-sampling\n",
    "ada = ADASYN(sampling_strategy='minority')\n",
    "X_resampled, y_resampled = ada.fit_sample(X, y)"
   ]
  },
  {
   "cell_type": "code",
   "execution_count": 15,
   "metadata": {},
   "outputs": [],
   "source": [
    "X_train, X_test, y_train, y_test = train_test_split(X_resampled, y_resampled, test_size=0.2, random_state=42)"
   ]
  },
  {
   "cell_type": "code",
   "execution_count": 16,
   "metadata": {},
   "outputs": [
    {
     "name": "stdout",
     "output_type": "stream",
     "text": [
      "Accuracy: 0.906\n",
      "[[41  0  0  1  2  0  0]\n",
      " [ 0 15  2  0  1  0  4]\n",
      " [ 0  1 48  0  0  0  0]\n",
      " [ 3  0  0 10  0  0  0]\n",
      " [ 0  0  0  0 25  0  1]\n",
      " [ 0  0  0  0  0 38  0]\n",
      " [ 0  4  0  0  0  1 15]]\n"
     ]
    }
   ],
   "source": [
    "gradb = GradientBoostingClassifier(n_estimators=150)\n",
    "gradb.fit(X_train, y_train)\n",
    "scores = cross_val_score(gradb, X_train, y_train, cv=10)\n",
    "y_pred_gradb = gradb.predict(X_test)\n",
    "y_pred_gradb_probas = gradb.predict_proba(X_test)\n",
    "print('Accuracy: %.3f' % accuracy_score(y_test, y_pred_gradb))\n",
    "#Generate the confusion matrix\n",
    "cf_matrix = confusion_matrix(y_test, y_pred_gradb)\n",
    "print(cf_matrix)"
   ]
  },
  {
   "cell_type": "code",
   "execution_count": 17,
   "metadata": {},
   "outputs": [
    {
     "name": "stdout",
     "output_type": "stream",
     "text": [
      "Accuracy: 0.896\n",
      "[[40  0  0  4  0  0  0]\n",
      " [ 0 14  1  0  1  1  5]\n",
      " [ 0  2 47  0  0  0  0]\n",
      " [ 2  0  0 11  0  0  0]\n",
      " [ 0  0  0  0 25  0  1]\n",
      " [ 0  0  0  0  0 38  0]\n",
      " [ 0  4  0  0  0  1 15]]\n"
     ]
    }
   ],
   "source": [
    "forest = RandomForestClassifier(n_estimators=150, max_depth=6, class_weight=\"balanced\")\n",
    "\n",
    "forest.fit(X_train, y_train)\n",
    "scores = cross_val_score(forest, X_train, y_train, cv=10)\n",
    "y_pred_forest = forest.predict(X_test)\n",
    "y_pred_forest_probas = forest.predict_proba(X_test)\n",
    "print('Accuracy: %.3f' % accuracy_score(y_test, y_pred_forest))\n",
    "#Generate the confusion matrix\n",
    "cf_matrix = confusion_matrix(y_test, y_pred_forest)\n",
    "print(cf_matrix)"
   ]
  },
  {
   "cell_type": "code",
   "execution_count": 18,
   "metadata": {},
   "outputs": [
    {
     "name": "stdout",
     "output_type": "stream",
     "text": [
      "Accuracy: 0.915\n",
      "[[41  0  0  1  2  0  0]\n",
      " [ 0 15  3  0  1  1  2]\n",
      " [ 0  1 48  0  0  0  0]\n",
      " [ 2  0  0 11  0  0  0]\n",
      " [ 0  0  0  0 26  0  0]\n",
      " [ 0  0  0  0  0 38  0]\n",
      " [ 0  4  0  0  0  1 15]]\n"
     ]
    }
   ],
   "source": [
    "xgb = XGBClassifier(max_depth=6,\n",
    "                    learning_rate=0.1,\n",
    "                    n_estimators=150)\n",
    "\n",
    "xgb.fit(X_train, y_train)\n",
    "scores = cross_val_score(xgb, X_train, y_train, cv=10)\n",
    "y_pred_xgb = xgb.predict(X_test)\n",
    "y_pred_xgb_probas = xgb.predict_proba(X_test)\n",
    "print('Accuracy: %.3f' % accuracy_score(y_test, y_pred_xgb))\n",
    "#Generate the confusion matrix\n",
    "cf_matrix = confusion_matrix(y_test, y_pred_xgb)\n",
    "print(cf_matrix)"
   ]
  },
  {
   "cell_type": "code",
   "execution_count": 19,
   "metadata": {},
   "outputs": [
    {
     "name": "stdout",
     "output_type": "stream",
     "text": [
      "              precision    recall  f1-score   support\n",
      "\n",
      "         0.0       0.95      0.93      0.94        44\n",
      "         1.0       0.75      0.68      0.71        22\n",
      "         2.0       0.94      0.98      0.96        49\n",
      "         3.0       0.92      0.85      0.88        13\n",
      "         4.0       0.90      1.00      0.95        26\n",
      "         5.0       0.95      1.00      0.97        38\n",
      "         6.0       0.88      0.75      0.81        20\n",
      "\n",
      "    accuracy                           0.92       212\n",
      "   macro avg       0.90      0.88      0.89       212\n",
      "weighted avg       0.91      0.92      0.91       212\n",
      "\n"
     ]
    }
   ],
   "source": [
    "print(classification_report(y_test, y_pred_xgb))"
   ]
  },
  {
   "cell_type": "code",
   "execution_count": 26,
   "metadata": {},
   "outputs": [
    {
     "name": "stdout",
     "output_type": "stream",
     "text": [
      "0.9150943396226415\n",
      "              precision    recall  f1-score   support\n",
      "\n",
      "         0.0       0.95      0.93      0.94        44\n",
      "         1.0       0.76      0.73      0.74        22\n",
      "         2.0       0.96      0.98      0.97        49\n",
      "         3.0       0.92      0.85      0.88        13\n",
      "         4.0       0.89      0.96      0.93        26\n",
      "         5.0       0.97      1.00      0.99        38\n",
      "         6.0       0.79      0.75      0.77        20\n",
      "\n",
      "    accuracy                           0.92       212\n",
      "   macro avg       0.89      0.89      0.89       212\n",
      "weighted avg       0.91      0.92      0.91       212\n",
      "\n"
     ]
    }
   ],
   "source": [
    "ensemble_list = [('gradient_boosting', gradb), \n",
    "                 ('random_forest', forest), \n",
    "                 ('xgboost', xgb)]\n",
    "\n",
    "ensemble = VotingClassifier(ensemble_list, voting='soft')\n",
    "ensemble.fit(X_train, y_train)\n",
    "y_pred_ensemble_preds_probas = ensemble.predict_proba(X_test)\n",
    "ensemble_preds = ensemble.predict(X_test)\n",
    "print(accuracy_score(y_test, ensemble_preds))\n",
    "print(classification_report(y_test, ensemble_preds))"
   ]
  },
  {
   "cell_type": "code",
   "execution_count": 27,
   "metadata": {},
   "outputs": [
    {
     "data": {
      "image/png": "[encoded data removed]",
      "text/plain": [
       "<Figure size 576x396 with 2 Axes>"
      ]
     },
     "metadata": {},
     "output_type": "display_data"
    }
   ],
   "source": [
    "skplt.metrics.plot_confusion_matrix(y_test, ensemble_preds, normalize=True)\n",
    "plt.show()"
   ]
  },
  {
   "cell_type": "code",
   "execution_count": 22,
   "metadata": {},
   "outputs": [
    {
     "data": {
      "image/png": "[encoded data removed]",
      "text/plain": [
       "<Figure size 576x396 with 2 Axes>"
      ]
     },
     "metadata": {},
     "output_type": "display_data"
    }
   ],
   "source": [
    "skplt.metrics.plot_confusion_matrix(y_test, y_pred_xgb, normalize=True)\n",
    "plt.show()"
   ]
  },
  {
   "cell_type": "code",
   "execution_count": 28,
   "metadata": {},
   "outputs": [
    {
     "name": "stderr",
     "output_type": "stream",
     "text": [
      "/Users/robinmasliah/opt/anaconda3/lib/python3.7/site-packages/sklearn/utils/deprecation.py:86: FutureWarning: Function plot_precision_recall_curve is deprecated; This will be removed in v0.5.0. Please use scikitplot.metrics.plot_precision_recall instead.\n",
      "  warnings.warn(msg, category=FutureWarning)\n"
     ]
    },
    {
     "data": {
      "image/png": "[encoded data removed]",
      "text/plain": [
       "<Figure size 576x396 with 1 Axes>"
      ]
     },
     "metadata": {},
     "output_type": "display_data"
    }
   ],
   "source": [
    "skplt.metrics.plot_precision_recall_curve(y_test, y_pred_ensemble_preds_probas)\n",
    "plt.show()"
   ]
  },
  {
   "cell_type": "code",
   "execution_count": 36,
   "metadata": {},
   "outputs": [],
   "source": [
    "def baseline_model():\n",
    "    # Create model here\n",
    "    model = Sequential()\n",
    "    model.add(Dense(15, input_dim = 48, activation = 'relu')) # Rectified Linear Unit Activation Function\n",
    "    model.add(Dense(15, activation = 'relu'))\n",
    "    model.add(Dense(11, activation = 'softmax')) # Softmax for multi-class classification\n",
    "    # Compile model here\n",
    "    model.compile(loss = 'categorical_crossentropy', optimizer = 'adam', metrics = ['accuracy'])\n",
    "    return model"
   ]
  },
  {
   "cell_type": "code",
   "execution_count": 37,
   "metadata": {},
   "outputs": [
    {
     "name": "stderr",
     "output_type": "stream",
     "text": [
      "/Users/robinmasliah/opt/anaconda3/lib/python3.7/site-packages/ipykernel_launcher.py:1: DeprecationWarning: KerasClassifier is deprecated, use Sci-Keras (https://github.com/adriangb/scikeras) instead. See https://www.adriangb.com/scikeras/stable/migration.html for help migrating.\n",
      "  \"\"\"Entry point for launching an IPython kernel.\n"
     ]
    }
   ],
   "source": [
    "estimator = KerasClassifier(build_fn=baseline_model, epochs=100, batch_size=10, verbose=0)"
   ]
  },
  {
   "cell_type": "code",
   "execution_count": 42,
   "metadata": {},
   "outputs": [
    {
     "name": "stderr",
     "output_type": "stream",
     "text": [
      "/Users/robinmasliah/opt/anaconda3/lib/python3.7/site-packages/sklearn/model_selection/_validation.py:619: FitFailedWarning: Estimator fit failed. The score on this train-test partition for these parameters will be set to nan. Details: \n",
      "Traceback (most recent call last):\n",
      "  File \"/Users/robinmasliah/opt/anaconda3/lib/python3.7/site-packages/sklearn/model_selection/_validation.py\", line 598, in _fit_and_score\n",
      "    estimator.fit(X_train, y_train, **fit_params)\n",
      "  File \"/Users/robinmasliah/opt/anaconda3/lib/python3.7/site-packages/keras/wrappers/scikit_learn.py\", line 236, in fit\n",
      "    return super(KerasClassifier, self).fit(x, y, **kwargs)\n",
      "  File \"/Users/robinmasliah/opt/anaconda3/lib/python3.7/site-packages/keras/wrappers/scikit_learn.py\", line 164, in fit\n",
      "    history = self.model.fit(x, y, **fit_args)\n",
      "  File \"/Users/robinmasliah/opt/anaconda3/lib/python3.7/site-packages/keras/utils/traceback_utils.py\", line 67, in error_handler\n",
      "    raise e.with_traceback(filtered_tb) from None\n",
      "  File \"/Users/robinmasliah/opt/anaconda3/lib/python3.7/site-packages/tensorflow/python/framework/func_graph.py\", line 1147, in autograph_handler\n",
      "    raise e.ag_error_metadata.to_exception(e)\n",
      "ValueError: in user code:\n",
      "\n",
      "    File \"/Users/robinmasliah/opt/anaconda3/lib/python3.7/site-packages/keras/engine/training.py\", line 1021, in train_function  *\n",
      "        return step_function(self, iterator)\n",
      "    File \"/Users/robinmasliah/opt/anaconda3/lib/python3.7/site-packages/keras/engine/training.py\", line 1010, in step_function  **\n",
      "        outputs = model.distribute_strategy.run(run_step, args=(data,))\n",
      "    File \"/Users/robinmasliah/opt/anaconda3/lib/python3.7/site-packages/keras/engine/training.py\", line 1000, in run_step  **\n",
      "        outputs = model.train_step(data)\n",
      "    File \"/Users/robinmasliah/opt/anaconda3/lib/python3.7/site-packages/keras/engine/training.py\", line 859, in train_step\n",
      "        y_pred = self(x, training=True)\n",
      "    File \"/Users/robinmasliah/opt/anaconda3/lib/python3.7/site-packages/keras/utils/traceback_utils.py\", line 67, in error_handler\n",
      "        raise e.with_traceback(filtered_tb) from None\n",
      "    File \"/Users/robinmasliah/opt/anaconda3/lib/python3.7/site-packages/keras/engine/input_spec.py\", line 264, in assert_input_compatibility\n",
      "        raise ValueError(f'Input {input_index} of layer \"{layer_name}\" is '\n",
      "\n",
      "    ValueError: Input 0 of layer \"sequential_30\" is incompatible with the layer: expected shape=(None, 48), found shape=(None, 34)\n",
      "\n",
      "\n",
      "  FitFailedWarning)\n",
      "/Users/robinmasliah/opt/anaconda3/lib/python3.7/site-packages/sklearn/model_selection/_validation.py:619: FitFailedWarning: Estimator fit failed. The score on this train-test partition for these parameters will be set to nan. Details: \n",
      "Traceback (most recent call last):\n",
      "  File \"/Users/robinmasliah/opt/anaconda3/lib/python3.7/site-packages/sklearn/model_selection/_validation.py\", line 598, in _fit_and_score\n",
      "    estimator.fit(X_train, y_train, **fit_params)\n",
      "  File \"/Users/robinmasliah/opt/anaconda3/lib/python3.7/site-packages/keras/wrappers/scikit_learn.py\", line 236, in fit\n",
      "    return super(KerasClassifier, self).fit(x, y, **kwargs)\n",
      "  File \"/Users/robinmasliah/opt/anaconda3/lib/python3.7/site-packages/keras/wrappers/scikit_learn.py\", line 164, in fit\n",
      "    history = self.model.fit(x, y, **fit_args)\n",
      "  File \"/Users/robinmasliah/opt/anaconda3/lib/python3.7/site-packages/keras/utils/traceback_utils.py\", line 67, in error_handler\n",
      "    raise e.with_traceback(filtered_tb) from None\n",
      "  File \"/Users/robinmasliah/opt/anaconda3/lib/python3.7/site-packages/tensorflow/python/framework/func_graph.py\", line 1147, in autograph_handler\n",
      "    raise e.ag_error_metadata.to_exception(e)\n",
      "ValueError: in user code:\n",
      "\n",
      "    File \"/Users/robinmasliah/opt/anaconda3/lib/python3.7/site-packages/keras/engine/training.py\", line 1021, in train_function  *\n",
      "        return step_function(self, iterator)\n",
      "    File \"/Users/robinmasliah/opt/anaconda3/lib/python3.7/site-packages/keras/engine/training.py\", line 1010, in step_function  **\n",
      "        outputs = model.distribute_strategy.run(run_step, args=(data,))\n",
      "    File \"/Users/robinmasliah/opt/anaconda3/lib/python3.7/site-packages/keras/engine/training.py\", line 1000, in run_step  **\n",
      "        outputs = model.train_step(data)\n",
      "    File \"/Users/robinmasliah/opt/anaconda3/lib/python3.7/site-packages/keras/engine/training.py\", line 859, in train_step\n",
      "        y_pred = self(x, training=True)\n",
      "    File \"/Users/robinmasliah/opt/anaconda3/lib/python3.7/site-packages/keras/utils/traceback_utils.py\", line 67, in error_handler\n",
      "        raise e.with_traceback(filtered_tb) from None\n",
      "    File \"/Users/robinmasliah/opt/anaconda3/lib/python3.7/site-packages/keras/engine/input_spec.py\", line 264, in assert_input_compatibility\n",
      "        raise ValueError(f'Input {input_index} of layer \"{layer_name}\" is '\n",
      "\n",
      "    ValueError: Input 0 of layer \"sequential_31\" is incompatible with the layer: expected shape=(None, 48), found shape=(None, 34)\n",
      "\n",
      "\n",
      "  FitFailedWarning)\n",
      "/Users/robinmasliah/opt/anaconda3/lib/python3.7/site-packages/sklearn/model_selection/_validation.py:619: FitFailedWarning: Estimator fit failed. The score on this train-test partition for these parameters will be set to nan. Details: \n",
      "Traceback (most recent call last):\n",
      "  File \"/Users/robinmasliah/opt/anaconda3/lib/python3.7/site-packages/sklearn/model_selection/_validation.py\", line 598, in _fit_and_score\n",
      "    estimator.fit(X_train, y_train, **fit_params)\n",
      "  File \"/Users/robinmasliah/opt/anaconda3/lib/python3.7/site-packages/keras/wrappers/scikit_learn.py\", line 236, in fit\n",
      "    return super(KerasClassifier, self).fit(x, y, **kwargs)\n",
      "  File \"/Users/robinmasliah/opt/anaconda3/lib/python3.7/site-packages/keras/wrappers/scikit_learn.py\", line 164, in fit\n",
      "    history = self.model.fit(x, y, **fit_args)\n",
      "  File \"/Users/robinmasliah/opt/anaconda3/lib/python3.7/site-packages/keras/utils/traceback_utils.py\", line 67, in error_handler\n",
      "    raise e.with_traceback(filtered_tb) from None\n",
      "  File \"/Users/robinmasliah/opt/anaconda3/lib/python3.7/site-packages/tensorflow/python/framework/func_graph.py\", line 1147, in autograph_handler\n",
      "    raise e.ag_error_metadata.to_exception(e)\n",
      "ValueError: in user code:\n",
      "\n",
      "    File \"/Users/robinmasliah/opt/anaconda3/lib/python3.7/site-packages/keras/engine/training.py\", line 1021, in train_function  *\n",
      "        return step_function(self, iterator)\n",
      "    File \"/Users/robinmasliah/opt/anaconda3/lib/python3.7/site-packages/keras/engine/training.py\", line 1010, in step_function  **\n",
      "        outputs = model.distribute_strategy.run(run_step, args=(data,))\n",
      "    File \"/Users/robinmasliah/opt/anaconda3/lib/python3.7/site-packages/keras/engine/training.py\", line 1000, in run_step  **\n",
      "        outputs = model.train_step(data)\n",
      "    File \"/Users/robinmasliah/opt/anaconda3/lib/python3.7/site-packages/keras/engine/training.py\", line 859, in train_step\n",
      "        y_pred = self(x, training=True)\n",
      "    File \"/Users/robinmasliah/opt/anaconda3/lib/python3.7/site-packages/keras/utils/traceback_utils.py\", line 67, in error_handler\n",
      "        raise e.with_traceback(filtered_tb) from None\n",
      "    File \"/Users/robinmasliah/opt/anaconda3/lib/python3.7/site-packages/keras/engine/input_spec.py\", line 264, in assert_input_compatibility\n",
      "        raise ValueError(f'Input {input_index} of layer \"{layer_name}\" is '\n",
      "\n",
      "    ValueError: Input 0 of layer \"sequential_32\" is incompatible with the layer: expected shape=(None, 48), found shape=(None, 34)\n",
      "\n",
      "\n",
      "  FitFailedWarning)\n",
      "/Users/robinmasliah/opt/anaconda3/lib/python3.7/site-packages/sklearn/model_selection/_validation.py:619: FitFailedWarning: Estimator fit failed. The score on this train-test partition for these parameters will be set to nan. Details: \n",
      "Traceback (most recent call last):\n",
      "  File \"/Users/robinmasliah/opt/anaconda3/lib/python3.7/site-packages/sklearn/model_selection/_validation.py\", line 598, in _fit_and_score\n",
      "    estimator.fit(X_train, y_train, **fit_params)\n",
      "  File \"/Users/robinmasliah/opt/anaconda3/lib/python3.7/site-packages/keras/wrappers/scikit_learn.py\", line 236, in fit\n",
      "    return super(KerasClassifier, self).fit(x, y, **kwargs)\n",
      "  File \"/Users/robinmasliah/opt/anaconda3/lib/python3.7/site-packages/keras/wrappers/scikit_learn.py\", line 164, in fit\n",
      "    history = self.model.fit(x, y, **fit_args)\n",
      "  File \"/Users/robinmasliah/opt/anaconda3/lib/python3.7/site-packages/keras/utils/traceback_utils.py\", line 67, in error_handler\n",
      "    raise e.with_traceback(filtered_tb) from None\n",
      "  File \"/Users/robinmasliah/opt/anaconda3/lib/python3.7/site-packages/tensorflow/python/framework/func_graph.py\", line 1147, in autograph_handler\n",
      "    raise e.ag_error_metadata.to_exception(e)\n",
      "ValueError: in user code:\n",
      "\n",
      "    File \"/Users/robinmasliah/opt/anaconda3/lib/python3.7/site-packages/keras/engine/training.py\", line 1021, in train_function  *\n",
      "        return step_function(self, iterator)\n",
      "    File \"/Users/robinmasliah/opt/anaconda3/lib/python3.7/site-packages/keras/engine/training.py\", line 1010, in step_function  **\n",
      "        outputs = model.distribute_strategy.run(run_step, args=(data,))\n",
      "    File \"/Users/robinmasliah/opt/anaconda3/lib/python3.7/site-packages/keras/engine/training.py\", line 1000, in run_step  **\n",
      "        outputs = model.train_step(data)\n",
      "    File \"/Users/robinmasliah/opt/anaconda3/lib/python3.7/site-packages/keras/engine/training.py\", line 859, in train_step\n",
      "        y_pred = self(x, training=True)\n",
      "    File \"/Users/robinmasliah/opt/anaconda3/lib/python3.7/site-packages/keras/utils/traceback_utils.py\", line 67, in error_handler\n",
      "        raise e.with_traceback(filtered_tb) from None\n",
      "    File \"/Users/robinmasliah/opt/anaconda3/lib/python3.7/site-packages/keras/engine/input_spec.py\", line 264, in assert_input_compatibility\n",
      "        raise ValueError(f'Input {input_index} of layer \"{layer_name}\" is '\n",
      "\n",
      "    ValueError: Input 0 of layer \"sequential_33\" is incompatible with the layer: expected shape=(None, 48), found shape=(None, 34)\n",
      "\n",
      "\n",
      "  FitFailedWarning)\n"
     ]
    },
    {
     "name": "stdout",
     "output_type": "stream",
     "text": [
      "Result: nan% (nan%)\n"
     ]
    },
    {
     "name": "stderr",
     "output_type": "stream",
     "text": [
      "/Users/robinmasliah/opt/anaconda3/lib/python3.7/site-packages/sklearn/model_selection/_validation.py:619: FitFailedWarning: Estimator fit failed. The score on this train-test partition for these parameters will be set to nan. Details: \n",
      "Traceback (most recent call last):\n",
      "  File \"/Users/robinmasliah/opt/anaconda3/lib/python3.7/site-packages/sklearn/model_selection/_validation.py\", line 598, in _fit_and_score\n",
      "    estimator.fit(X_train, y_train, **fit_params)\n",
      "  File \"/Users/robinmasliah/opt/anaconda3/lib/python3.7/site-packages/keras/wrappers/scikit_learn.py\", line 236, in fit\n",
      "    return super(KerasClassifier, self).fit(x, y, **kwargs)\n",
      "  File \"/Users/robinmasliah/opt/anaconda3/lib/python3.7/site-packages/keras/wrappers/scikit_learn.py\", line 164, in fit\n",
      "    history = self.model.fit(x, y, **fit_args)\n",
      "  File \"/Users/robinmasliah/opt/anaconda3/lib/python3.7/site-packages/keras/utils/traceback_utils.py\", line 67, in error_handler\n",
      "    raise e.with_traceback(filtered_tb) from None\n",
      "  File \"/Users/robinmasliah/opt/anaconda3/lib/python3.7/site-packages/tensorflow/python/framework/func_graph.py\", line 1147, in autograph_handler\n",
      "    raise e.ag_error_metadata.to_exception(e)\n",
      "ValueError: in user code:\n",
      "\n",
      "    File \"/Users/robinmasliah/opt/anaconda3/lib/python3.7/site-packages/keras/engine/training.py\", line 1021, in train_function  *\n",
      "        return step_function(self, iterator)\n",
      "    File \"/Users/robinmasliah/opt/anaconda3/lib/python3.7/site-packages/keras/engine/training.py\", line 1010, in step_function  **\n",
      "        outputs = model.distribute_strategy.run(run_step, args=(data,))\n",
      "    File \"/Users/robinmasliah/opt/anaconda3/lib/python3.7/site-packages/keras/engine/training.py\", line 1000, in run_step  **\n",
      "        outputs = model.train_step(data)\n",
      "    File \"/Users/robinmasliah/opt/anaconda3/lib/python3.7/site-packages/keras/engine/training.py\", line 859, in train_step\n",
      "        y_pred = self(x, training=True)\n",
      "    File \"/Users/robinmasliah/opt/anaconda3/lib/python3.7/site-packages/keras/utils/traceback_utils.py\", line 67, in error_handler\n",
      "        raise e.with_traceback(filtered_tb) from None\n",
      "    File \"/Users/robinmasliah/opt/anaconda3/lib/python3.7/site-packages/keras/engine/input_spec.py\", line 264, in assert_input_compatibility\n",
      "        raise ValueError(f'Input {input_index} of layer \"{layer_name}\" is '\n",
      "\n",
      "    ValueError: Input 0 of layer \"sequential_34\" is incompatible with the layer: expected shape=(None, 48), found shape=(None, 34)\n",
      "\n",
      "\n",
      "  FitFailedWarning)\n"
     ]
    }
   ],
   "source": [
    "# KFold Cross Validation\n",
    "kfold = KFold(n_splits=5, shuffle=True, random_state=42)\n",
    "# Try different values of splits e.g., 10\n",
    "\n",
    "# Object to describe the result\n",
    "results = cross_val_score(estimator, X_train, y_train, cv=kfold)\n",
    "# Result\n",
    "print(\"Result: %.2f%% (%.2f%%)\" % (results.mean()*100, results.std()*100))"
   ]
  },
  {
   "cell_type": "code",
   "execution_count": null,
   "metadata": {},
   "outputs": [],
   "source": []
  },
  {
   "cell_type": "code",
   "execution_count": null,
   "metadata": {},
   "outputs": [],
   "source": []
  }
 ],
 "metadata": {
  "kernelspec": {
   "display_name": "Python 3",
   "language": "python",
   "name": "python3"
  },
  "language_info": {
   "codemirror_mode": {
    "name": "ipython",
    "version": 3
   },
   "file_extension": ".py",
   "mimetype": "text/x-python",
   "name": "python",
   "nbconvert_exporter": "python",
   "pygments_lexer": "ipython3",
   "version": "3.7.4"
  }
 },
 "nbformat": 4,
 "nbformat_minor": 2
}
