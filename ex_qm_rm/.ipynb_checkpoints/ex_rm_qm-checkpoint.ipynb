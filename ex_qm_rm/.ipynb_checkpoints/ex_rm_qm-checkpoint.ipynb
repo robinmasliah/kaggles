{
 "cells": [
  {
   "cell_type": "markdown",
   "metadata": {},
   "source": [
    "<h1> Exercice QM Robin Masliah </h1>"
   ]
  },
  {
   "cell_type": "markdown",
   "metadata": {},
   "source": [
    "### Données\n",
    "* **datetime** : date et heure du relevé \n",
    "* **season** : 1 = printemps , 2 = été, 3 = automne, 4 = hiver \n",
    "* **holiday** : indique si le jour est un jour de vacances scolaires  \n",
    "* **workingday** : indique si le jour est travaillé (ni week­end ni vacances) \n",
    "* **weather** : 1: Dégagé à nuageux, 2 : Brouillard, 3 : Légère pluie ou neige, 4 : Fortes averses ou neiges \n",
    "* **temp** : température en degrés Celsius \n",
    "* **atemp** : température ressentie en degrés Celsius \n",
    "* **humidity** : taux d’humidité \n",
    "* **windspeed** : vitesse du vent \n",
    "* **casual** : nombre de locations d’usagers non abonnés \n",
    "* **registered** : nombre de locations d’usagers abonnés \n",
    "* **count** : nombre total de locations de vélos\n",
    "\n",
    "### Objectif\n",
    "* Prédire le nombre de vélos loués par heure.\n"
   ]
  },
  {
   "cell_type": "code",
   "execution_count": 70,
   "metadata": {
    "collapsed": true
   },
   "outputs": [],
   "source": [
    "import pandas as pd\n",
    "import numpy as np\n",
    "from sklearn.model_selection import train_test_split\n",
    "from datetime import datetime\n",
    "import seaborn as sns\n",
    "%matplotlib inline\n",
    "import matplotlib.pyplot as plt\n",
    "plt.style.use('seaborn')\n",
    "import re\n",
    "\n",
    "from sqlalchemy import create_engine\n",
    "\n",
    "import sklearn\n",
    "from sklearn import tree\n",
    "from sklearn.ensemble import RandomForestRegressor\n",
    "from sklearn.linear_model import LinearRegression\n",
    "from sklearn.model_selection import cross_val_score\n",
    "from sklearn.model_selection import GridSearchCV\n",
    "from sklearn.metrics import mean_squared_error, explained_variance_score, r2_score\n",
    "\n",
    "import warnings\n",
    "warnings.filterwarnings(\"ignore\")"
   ]
  },
  {
   "cell_type": "code",
   "execution_count": 2,
   "metadata": {
    "collapsed": true
   },
   "outputs": [],
   "source": [
    "df = pd.read_csv('data.csv', sep=',', parse_dates=True)"
   ]
  },
  {
   "cell_type": "markdown",
   "metadata": {},
   "source": [
    "## Analyse préliminaire des données"
   ]
  },
  {
   "cell_type": "code",
   "execution_count": 3,
   "metadata": {},
   "outputs": [
    {
     "data": {
      "text/html": [
       "<div>\n",
       "<style>\n",
       "    .dataframe thead tr:only-child th {\n",
       "        text-align: right;\n",
       "    }\n",
       "\n",
       "    .dataframe thead th {\n",
       "        text-align: left;\n",
       "    }\n",
       "\n",
       "    .dataframe tbody tr th {\n",
       "        vertical-align: top;\n",
       "    }\n",
       "</style>\n",
       "<table border=\"1\" class=\"dataframe\">\n",
       "  <thead>\n",
       "    <tr style=\"text-align: right;\">\n",
       "      <th></th>\n",
       "      <th>datetime</th>\n",
       "      <th>season</th>\n",
       "      <th>holiday</th>\n",
       "      <th>workingday</th>\n",
       "      <th>weather</th>\n",
       "      <th>temp</th>\n",
       "      <th>atemp</th>\n",
       "      <th>humidity</th>\n",
       "      <th>windspeed</th>\n",
       "      <th>casual</th>\n",
       "      <th>registered</th>\n",
       "      <th>count</th>\n",
       "    </tr>\n",
       "  </thead>\n",
       "  <tbody>\n",
       "    <tr>\n",
       "      <th>0</th>\n",
       "      <td>2011-01-01 00:00:00</td>\n",
       "      <td>1</td>\n",
       "      <td>0</td>\n",
       "      <td>0</td>\n",
       "      <td>1</td>\n",
       "      <td>9.84</td>\n",
       "      <td>14.395</td>\n",
       "      <td>81</td>\n",
       "      <td>0.0</td>\n",
       "      <td>3</td>\n",
       "      <td>13</td>\n",
       "      <td>16</td>\n",
       "    </tr>\n",
       "    <tr>\n",
       "      <th>1</th>\n",
       "      <td>2011-01-01 01:00:00</td>\n",
       "      <td>1</td>\n",
       "      <td>0</td>\n",
       "      <td>0</td>\n",
       "      <td>1</td>\n",
       "      <td>9.02</td>\n",
       "      <td>13.635</td>\n",
       "      <td>80</td>\n",
       "      <td>0.0</td>\n",
       "      <td>8</td>\n",
       "      <td>32</td>\n",
       "      <td>40</td>\n",
       "    </tr>\n",
       "    <tr>\n",
       "      <th>2</th>\n",
       "      <td>2011-01-01 02:00:00</td>\n",
       "      <td>1</td>\n",
       "      <td>0</td>\n",
       "      <td>0</td>\n",
       "      <td>1</td>\n",
       "      <td>9.02</td>\n",
       "      <td>13.635</td>\n",
       "      <td>80</td>\n",
       "      <td>0.0</td>\n",
       "      <td>5</td>\n",
       "      <td>27</td>\n",
       "      <td>32</td>\n",
       "    </tr>\n",
       "    <tr>\n",
       "      <th>3</th>\n",
       "      <td>2011-01-01 03:00:00</td>\n",
       "      <td>1</td>\n",
       "      <td>0</td>\n",
       "      <td>0</td>\n",
       "      <td>1</td>\n",
       "      <td>9.84</td>\n",
       "      <td>14.395</td>\n",
       "      <td>75</td>\n",
       "      <td>0.0</td>\n",
       "      <td>3</td>\n",
       "      <td>10</td>\n",
       "      <td>13</td>\n",
       "    </tr>\n",
       "    <tr>\n",
       "      <th>4</th>\n",
       "      <td>2011-01-01 04:00:00</td>\n",
       "      <td>1</td>\n",
       "      <td>0</td>\n",
       "      <td>0</td>\n",
       "      <td>1</td>\n",
       "      <td>9.84</td>\n",
       "      <td>14.395</td>\n",
       "      <td>75</td>\n",
       "      <td>0.0</td>\n",
       "      <td>0</td>\n",
       "      <td>1</td>\n",
       "      <td>1</td>\n",
       "    </tr>\n",
       "  </tbody>\n",
       "</table>\n",
       "</div>"
      ],
      "text/plain": [
       "              datetime  season  holiday  workingday  weather  temp   atemp  \\\n",
       "0  2011-01-01 00:00:00       1        0           0        1  9.84  14.395   \n",
       "1  2011-01-01 01:00:00       1        0           0        1  9.02  13.635   \n",
       "2  2011-01-01 02:00:00       1        0           0        1  9.02  13.635   \n",
       "3  2011-01-01 03:00:00       1        0           0        1  9.84  14.395   \n",
       "4  2011-01-01 04:00:00       1        0           0        1  9.84  14.395   \n",
       "\n",
       "   humidity  windspeed  casual  registered  count  \n",
       "0        81        0.0       3          13     16  \n",
       "1        80        0.0       8          32     40  \n",
       "2        80        0.0       5          27     32  \n",
       "3        75        0.0       3          10     13  \n",
       "4        75        0.0       0           1      1  "
      ]
     },
     "execution_count": 3,
     "metadata": {},
     "output_type": "execute_result"
    }
   ],
   "source": [
    "df.head()"
   ]
  },
  {
   "cell_type": "code",
   "execution_count": 4,
   "metadata": {},
   "outputs": [
    {
     "data": {
      "text/html": [
       "<div>\n",
       "<style>\n",
       "    .dataframe thead tr:only-child th {\n",
       "        text-align: right;\n",
       "    }\n",
       "\n",
       "    .dataframe thead th {\n",
       "        text-align: left;\n",
       "    }\n",
       "\n",
       "    .dataframe tbody tr th {\n",
       "        vertical-align: top;\n",
       "    }\n",
       "</style>\n",
       "<table border=\"1\" class=\"dataframe\">\n",
       "  <thead>\n",
       "    <tr style=\"text-align: right;\">\n",
       "      <th></th>\n",
       "      <th>season</th>\n",
       "      <th>holiday</th>\n",
       "      <th>workingday</th>\n",
       "      <th>weather</th>\n",
       "      <th>temp</th>\n",
       "      <th>atemp</th>\n",
       "      <th>humidity</th>\n",
       "      <th>windspeed</th>\n",
       "      <th>casual</th>\n",
       "      <th>registered</th>\n",
       "      <th>count</th>\n",
       "    </tr>\n",
       "  </thead>\n",
       "  <tbody>\n",
       "    <tr>\n",
       "      <th>count</th>\n",
       "      <td>10886.000000</td>\n",
       "      <td>10886.000000</td>\n",
       "      <td>10886.000000</td>\n",
       "      <td>10886.000000</td>\n",
       "      <td>10886.00000</td>\n",
       "      <td>10886.000000</td>\n",
       "      <td>10886.000000</td>\n",
       "      <td>10886.000000</td>\n",
       "      <td>10886.000000</td>\n",
       "      <td>10886.000000</td>\n",
       "      <td>10886.000000</td>\n",
       "    </tr>\n",
       "    <tr>\n",
       "      <th>mean</th>\n",
       "      <td>2.506614</td>\n",
       "      <td>0.028569</td>\n",
       "      <td>0.680875</td>\n",
       "      <td>1.418427</td>\n",
       "      <td>20.23086</td>\n",
       "      <td>23.655084</td>\n",
       "      <td>61.886460</td>\n",
       "      <td>12.799395</td>\n",
       "      <td>36.021955</td>\n",
       "      <td>155.552177</td>\n",
       "      <td>191.574132</td>\n",
       "    </tr>\n",
       "    <tr>\n",
       "      <th>std</th>\n",
       "      <td>1.116174</td>\n",
       "      <td>0.166599</td>\n",
       "      <td>0.466159</td>\n",
       "      <td>0.633839</td>\n",
       "      <td>7.79159</td>\n",
       "      <td>8.474601</td>\n",
       "      <td>19.245033</td>\n",
       "      <td>8.164537</td>\n",
       "      <td>49.960477</td>\n",
       "      <td>151.039033</td>\n",
       "      <td>181.144454</td>\n",
       "    </tr>\n",
       "    <tr>\n",
       "      <th>min</th>\n",
       "      <td>1.000000</td>\n",
       "      <td>0.000000</td>\n",
       "      <td>0.000000</td>\n",
       "      <td>1.000000</td>\n",
       "      <td>0.82000</td>\n",
       "      <td>0.760000</td>\n",
       "      <td>0.000000</td>\n",
       "      <td>0.000000</td>\n",
       "      <td>0.000000</td>\n",
       "      <td>0.000000</td>\n",
       "      <td>1.000000</td>\n",
       "    </tr>\n",
       "    <tr>\n",
       "      <th>25%</th>\n",
       "      <td>2.000000</td>\n",
       "      <td>0.000000</td>\n",
       "      <td>0.000000</td>\n",
       "      <td>1.000000</td>\n",
       "      <td>13.94000</td>\n",
       "      <td>16.665000</td>\n",
       "      <td>47.000000</td>\n",
       "      <td>7.001500</td>\n",
       "      <td>4.000000</td>\n",
       "      <td>36.000000</td>\n",
       "      <td>42.000000</td>\n",
       "    </tr>\n",
       "    <tr>\n",
       "      <th>50%</th>\n",
       "      <td>3.000000</td>\n",
       "      <td>0.000000</td>\n",
       "      <td>1.000000</td>\n",
       "      <td>1.000000</td>\n",
       "      <td>20.50000</td>\n",
       "      <td>24.240000</td>\n",
       "      <td>62.000000</td>\n",
       "      <td>12.998000</td>\n",
       "      <td>17.000000</td>\n",
       "      <td>118.000000</td>\n",
       "      <td>145.000000</td>\n",
       "    </tr>\n",
       "    <tr>\n",
       "      <th>75%</th>\n",
       "      <td>4.000000</td>\n",
       "      <td>0.000000</td>\n",
       "      <td>1.000000</td>\n",
       "      <td>2.000000</td>\n",
       "      <td>26.24000</td>\n",
       "      <td>31.060000</td>\n",
       "      <td>77.000000</td>\n",
       "      <td>16.997900</td>\n",
       "      <td>49.000000</td>\n",
       "      <td>222.000000</td>\n",
       "      <td>284.000000</td>\n",
       "    </tr>\n",
       "    <tr>\n",
       "      <th>max</th>\n",
       "      <td>4.000000</td>\n",
       "      <td>1.000000</td>\n",
       "      <td>1.000000</td>\n",
       "      <td>4.000000</td>\n",
       "      <td>41.00000</td>\n",
       "      <td>45.455000</td>\n",
       "      <td>100.000000</td>\n",
       "      <td>56.996900</td>\n",
       "      <td>367.000000</td>\n",
       "      <td>886.000000</td>\n",
       "      <td>977.000000</td>\n",
       "    </tr>\n",
       "  </tbody>\n",
       "</table>\n",
       "</div>"
      ],
      "text/plain": [
       "             season       holiday    workingday       weather         temp  \\\n",
       "count  10886.000000  10886.000000  10886.000000  10886.000000  10886.00000   \n",
       "mean       2.506614      0.028569      0.680875      1.418427     20.23086   \n",
       "std        1.116174      0.166599      0.466159      0.633839      7.79159   \n",
       "min        1.000000      0.000000      0.000000      1.000000      0.82000   \n",
       "25%        2.000000      0.000000      0.000000      1.000000     13.94000   \n",
       "50%        3.000000      0.000000      1.000000      1.000000     20.50000   \n",
       "75%        4.000000      0.000000      1.000000      2.000000     26.24000   \n",
       "max        4.000000      1.000000      1.000000      4.000000     41.00000   \n",
       "\n",
       "              atemp      humidity     windspeed        casual    registered  \\\n",
       "count  10886.000000  10886.000000  10886.000000  10886.000000  10886.000000   \n",
       "mean      23.655084     61.886460     12.799395     36.021955    155.552177   \n",
       "std        8.474601     19.245033      8.164537     49.960477    151.039033   \n",
       "min        0.760000      0.000000      0.000000      0.000000      0.000000   \n",
       "25%       16.665000     47.000000      7.001500      4.000000     36.000000   \n",
       "50%       24.240000     62.000000     12.998000     17.000000    118.000000   \n",
       "75%       31.060000     77.000000     16.997900     49.000000    222.000000   \n",
       "max       45.455000    100.000000     56.996900    367.000000    886.000000   \n",
       "\n",
       "              count  \n",
       "count  10886.000000  \n",
       "mean     191.574132  \n",
       "std      181.144454  \n",
       "min        1.000000  \n",
       "25%       42.000000  \n",
       "50%      145.000000  \n",
       "75%      284.000000  \n",
       "max      977.000000  "
      ]
     },
     "execution_count": 4,
     "metadata": {},
     "output_type": "execute_result"
    }
   ],
   "source": [
    "# Variable count (nombre de vélos loués par heure) : {Min = 1, Max = 977, Variance = 181, Moyenne = 192}\n",
    "df.describe()"
   ]
  },
  {
   "cell_type": "markdown",
   "metadata": {},
   "source": [
    "* Ne semble pas avoir de valeurs abérrantes."
   ]
  },
  {
   "cell_type": "code",
   "execution_count": 5,
   "metadata": {
    "collapsed": true
   },
   "outputs": [],
   "source": [
    "# Fonction pour dissocier la date de l'heure\n",
    "def split_it(year):\n",
    "    return re.findall('([^\\s]+)', year)"
   ]
  },
  {
   "cell_type": "code",
   "execution_count": 6,
   "metadata": {
    "collapsed": true,
    "scrolled": true
   },
   "outputs": [],
   "source": [
    "# Tranformation de la colonne datetime en deux colonnes distinctes heure et date\n",
    "df['datetime'] = df['datetime'].apply(lambda x: split_it(x))\n",
    "\n",
    "df['date'] = 0\n",
    "df['heure'] = 0\n",
    "\n",
    "for i in range(0, len(df['datetime'])):\n",
    "    df['date'][i] = df['datetime'][i][0]\n",
    "\n",
    "for i in range(0, len(df['datetime'])):\n",
    "    df['heure'][i] = df['datetime'][i][1]\n",
    "\n",
    "del df['datetime']"
   ]
  },
  {
   "cell_type": "code",
   "execution_count": 7,
   "metadata": {
    "collapsed": true
   },
   "outputs": [],
   "source": [
    "# Création d'un index date\n",
    "df[\"date\"] = pd.to_datetime(df[\"date\"], errors=\"ignore\", format=\"%Y/%m/%d\")\n",
    "df.set_index('date', inplace=True)"
   ]
  },
  {
   "cell_type": "code",
   "execution_count": 8,
   "metadata": {
    "collapsed": true
   },
   "outputs": [],
   "source": [
    "df_ts = df['count']"
   ]
  },
  {
   "cell_type": "code",
   "execution_count": 9,
   "metadata": {
    "collapsed": true
   },
   "outputs": [],
   "source": [
    "# Création des moyennes hebdomadaires\n",
    "df_ts = df_ts.resample('W').mean()\n",
    "df_ts = df_ts.dropna()"
   ]
  },
  {
   "cell_type": "code",
   "execution_count": 10,
   "metadata": {
    "scrolled": true
   },
   "outputs": [
    {
     "data": {
      "image/png": "[encoded data removed]",
      "text/plain": [
       "<matplotlib.figure.Figure at 0x7f15f6af2908>"
      ]
     },
     "metadata": {},
     "output_type": "display_data"
    }
   ],
   "source": [
    "# Année 2011\n",
    "ax = df_ts.plot()\n",
    "ax.set_xlim(pd.Timestamp('2011-01-01'), pd.Timestamp('2011-12-30'))\n",
    "\n",
    "plt.xlabel('Date')\n",
    "plt.ylabel('Nombre de vélos loués')\n",
    "plt.title(\"Moyenne du nombre de vélo loués par semaine en 2011\")\n",
    "\n",
    "plt.axis()\n",
    "plt.legend()\n",
    "plt.show()"
   ]
  },
  {
   "cell_type": "code",
   "execution_count": 11,
   "metadata": {},
   "outputs": [
    {
     "data": {
      "image/png": "[encoded data removed]",
      "text/plain": [
       "<matplotlib.figure.Figure at 0x7f15f62d7ba8>"
      ]
     },
     "metadata": {},
     "output_type": "display_data"
    }
   ],
   "source": [
    "# Année 2012\n",
    "ax = df_ts.plot()\n",
    "ax.set_xlim(pd.Timestamp('2012-01-01'), pd.Timestamp('2012-12-19'))\n",
    "\n",
    "plt.xlabel('Date')\n",
    "plt.ylabel('Nombre de vélos loués')\n",
    "plt.title(\"Moyenne du nombre de vélo loués par semaine en 2012\")\n",
    "\n",
    "plt.axis()\n",
    "plt.legend()\n",
    "plt.show()"
   ]
  },
  {
   "cell_type": "markdown",
   "metadata": {},
   "source": [
    "- Il y a moins de vélos loués en hiver (de janvier à mars) que tout le reste de l'année."
   ]
  },
  {
   "cell_type": "code",
   "execution_count": 12,
   "metadata": {
    "collapsed": true
   },
   "outputs": [],
   "source": [
    "df1 = df.copy()"
   ]
  },
  {
   "cell_type": "code",
   "execution_count": 13,
   "metadata": {
    "collapsed": true
   },
   "outputs": [],
   "source": [
    "df2 = df1[['count', 'heure']]\n",
    "df2.set_index('heure', inplace=True)\n",
    "# Création des moyennes de vélos loués par heure dans une journée.\n",
    "df2 = df2.groupby(['heure'])['count'].mean()\n",
    "df2 = df2.dropna()"
   ]
  },
  {
   "cell_type": "code",
   "execution_count": 14,
   "metadata": {},
   "outputs": [
    {
     "data": {
      "image/png": "[encoded data removed]",
      "text/plain": [
       "<matplotlib.figure.Figure at 0x7f15f656d438>"
      ]
     },
     "metadata": {},
     "output_type": "display_data"
    }
   ],
   "source": [
    "# Moyenne du nombre de locations de vélos par heure en une journée.\n",
    "df2.plot()\n",
    "plt.xlabel('Heure')\n",
    "plt.ylabel('Nombre de vélos loués')\n",
    "plt.title(\"Moyenne du nombre de locations de vélos par heure en une journée.\")\n",
    "\n",
    "plt.axis()\n",
    "plt.legend()\n",
    "plt.show()"
   ]
  },
  {
   "cell_type": "markdown",
   "metadata": {},
   "source": [
    "- Nous pouvons voir sur ce graphique que la location de vélos est moindre entre minuit et 5h du matin."
   ]
  },
  {
   "cell_type": "code",
   "execution_count": 15,
   "metadata": {},
   "outputs": [
    {
     "data": {
      "text/plain": [
       "<matplotlib.axes._subplots.AxesSubplot at 0x7f15f64cbba8>"
      ]
     },
     "execution_count": 15,
     "metadata": {},
     "output_type": "execute_result"
    },
    {
     "data": {
      "image/png": "[encoded data removed]",
      "text/plain": [
       "<matplotlib.figure.Figure at 0x7f15f64f0e80>"
      ]
     },
     "metadata": {},
     "output_type": "display_data"
    }
   ],
   "source": [
    "# Etude des corrélations entre les features\n",
    "f, ax = plt.subplots(figsize=(10, 8))\n",
    "corr = df.corr()\n",
    "sns.heatmap(corr, mask=np.zeros_like(corr, dtype=np.bool), cmap=sns.diverging_palette(220, 10, as_cmap=True),\n",
    "            square=True, ax=ax)"
   ]
  },
  {
   "cell_type": "markdown",
   "metadata": {},
   "source": [
    "- Les corrélations les plus importantes sont les suivantes :\n",
    "    * température et température ressentie\n",
    "    * Casual, Registered et count très logiquement étant donné que **count = (registered + casual)**\n",
    "    * La température (temp et atemp) sont corrélées avec casual, registered et count. Mais surtout avec casual. Le froid dissuade les emprunteurs occasionnels."
   ]
  },
  {
   "cell_type": "code",
   "execution_count": 16,
   "metadata": {
    "collapsed": true
   },
   "outputs": [],
   "source": [
    "# Changement du format heure pour le rendre exploitable par le modèle\n",
    "df.heure = df.heure.replace({\"00:00:00\": \"0\", \"01:00:00\": \"1\", \"02:00:00\": \"2\",\n",
    "                             \"03:00:00\": \"3\", \"04:00:00\": \"4\", \"05:00:00\": \"5\",\n",
    "                             \"06:00:00\": \"6\", \"07:00:00\": \"7\", \"08:00:00\": \"8\",\n",
    "                             \"09:00:00\": \"9\", \"10:00:00\": \"10\", \"11:00:00\": \"11\",\n",
    "                             \"12:00:00\": \"12\", \"13:00:00\": \"13\", \"14:00:00\": \"14\",\n",
    "                             \"15:00:00\": \"15\", \"16:00:00\": \"16\", \"17:00:00\": \"17\",\n",
    "                             \"18:00:00\": \"18\", \"19:00:00\": \"19\", \"20:00:00\": \"20\",\n",
    "                             \"21:00:00\": \"21\", \"22:00:00\": \"22\", \"23:00:00\": \"23\"})"
   ]
  },
  {
   "cell_type": "code",
   "execution_count": 17,
   "metadata": {},
   "outputs": [
    {
     "data": {
      "text/plain": [
       "date\n",
       "2011-01-01    0\n",
       "2011-01-01    1\n",
       "2011-01-01    2\n",
       "2011-01-01    3\n",
       "2011-01-01    4\n",
       "Name: heure, dtype: object"
      ]
     },
     "execution_count": 17,
     "metadata": {},
     "output_type": "execute_result"
    }
   ],
   "source": [
    "dft = df.copy()\n",
    "dft['heure'].head()"
   ]
  },
  {
   "cell_type": "code",
   "execution_count": 18,
   "metadata": {},
   "outputs": [
    {
     "data": {
      "text/html": [
       "<div>\n",
       "<style>\n",
       "    .dataframe thead tr:only-child th {\n",
       "        text-align: right;\n",
       "    }\n",
       "\n",
       "    .dataframe thead th {\n",
       "        text-align: left;\n",
       "    }\n",
       "\n",
       "    .dataframe tbody tr th {\n",
       "        vertical-align: top;\n",
       "    }\n",
       "</style>\n",
       "<table border=\"1\" class=\"dataframe\">\n",
       "  <thead>\n",
       "    <tr style=\"text-align: right;\">\n",
       "      <th></th>\n",
       "      <th>date</th>\n",
       "      <th>season</th>\n",
       "      <th>holiday</th>\n",
       "      <th>workingday</th>\n",
       "      <th>weather</th>\n",
       "      <th>temp</th>\n",
       "      <th>atemp</th>\n",
       "      <th>humidity</th>\n",
       "      <th>windspeed</th>\n",
       "      <th>casual</th>\n",
       "      <th>registered</th>\n",
       "      <th>count</th>\n",
       "      <th>heure</th>\n",
       "    </tr>\n",
       "  </thead>\n",
       "  <tbody>\n",
       "    <tr>\n",
       "      <th>0</th>\n",
       "      <td>2011-01-01 00:00:00.000000</td>\n",
       "      <td>1</td>\n",
       "      <td>0</td>\n",
       "      <td>0</td>\n",
       "      <td>1</td>\n",
       "      <td>9.84</td>\n",
       "      <td>14.395</td>\n",
       "      <td>81</td>\n",
       "      <td>0.0</td>\n",
       "      <td>3</td>\n",
       "      <td>13</td>\n",
       "      <td>16</td>\n",
       "      <td>0</td>\n",
       "    </tr>\n",
       "    <tr>\n",
       "      <th>1</th>\n",
       "      <td>2011-01-01 00:00:00.000000</td>\n",
       "      <td>1</td>\n",
       "      <td>0</td>\n",
       "      <td>0</td>\n",
       "      <td>1</td>\n",
       "      <td>9.02</td>\n",
       "      <td>13.635</td>\n",
       "      <td>80</td>\n",
       "      <td>0.0</td>\n",
       "      <td>8</td>\n",
       "      <td>32</td>\n",
       "      <td>40</td>\n",
       "      <td>1</td>\n",
       "    </tr>\n",
       "    <tr>\n",
       "      <th>2</th>\n",
       "      <td>2011-01-01 00:00:00.000000</td>\n",
       "      <td>1</td>\n",
       "      <td>0</td>\n",
       "      <td>0</td>\n",
       "      <td>1</td>\n",
       "      <td>9.02</td>\n",
       "      <td>13.635</td>\n",
       "      <td>80</td>\n",
       "      <td>0.0</td>\n",
       "      <td>5</td>\n",
       "      <td>27</td>\n",
       "      <td>32</td>\n",
       "      <td>2</td>\n",
       "    </tr>\n",
       "    <tr>\n",
       "      <th>3</th>\n",
       "      <td>2011-01-01 00:00:00.000000</td>\n",
       "      <td>1</td>\n",
       "      <td>0</td>\n",
       "      <td>0</td>\n",
       "      <td>1</td>\n",
       "      <td>9.84</td>\n",
       "      <td>14.395</td>\n",
       "      <td>75</td>\n",
       "      <td>0.0</td>\n",
       "      <td>3</td>\n",
       "      <td>10</td>\n",
       "      <td>13</td>\n",
       "      <td>3</td>\n",
       "    </tr>\n",
       "    <tr>\n",
       "      <th>4</th>\n",
       "      <td>2011-01-01 00:00:00.000000</td>\n",
       "      <td>1</td>\n",
       "      <td>0</td>\n",
       "      <td>0</td>\n",
       "      <td>1</td>\n",
       "      <td>9.84</td>\n",
       "      <td>14.395</td>\n",
       "      <td>75</td>\n",
       "      <td>0.0</td>\n",
       "      <td>0</td>\n",
       "      <td>1</td>\n",
       "      <td>1</td>\n",
       "      <td>4</td>\n",
       "    </tr>\n",
       "  </tbody>\n",
       "</table>\n",
       "</div>"
      ],
      "text/plain": [
       "                         date  season  holiday  workingday  weather  temp  \\\n",
       "0  2011-01-01 00:00:00.000000       1        0           0        1  9.84   \n",
       "1  2011-01-01 00:00:00.000000       1        0           0        1  9.02   \n",
       "2  2011-01-01 00:00:00.000000       1        0           0        1  9.02   \n",
       "3  2011-01-01 00:00:00.000000       1        0           0        1  9.84   \n",
       "4  2011-01-01 00:00:00.000000       1        0           0        1  9.84   \n",
       "\n",
       "    atemp  humidity  windspeed  casual  registered  count heure  \n",
       "0  14.395        81        0.0       3          13     16     0  \n",
       "1  13.635        80        0.0       8          32     40     1  \n",
       "2  13.635        80        0.0       5          27     32     2  \n",
       "3  14.395        75        0.0       3          10     13     3  \n",
       "4  14.395        75        0.0       0           1      1     4  "
      ]
     },
     "execution_count": 18,
     "metadata": {},
     "output_type": "execute_result"
    }
   ],
   "source": [
    "# SQL engine pour pouvoir explorer les données à l'oeil nu rapidement à titre observatoire.\n",
    "engine = create_engine('sqlite:///:memory:')\n",
    "dft.to_sql('table', engine)\n",
    "pd.read_sql_table('table', engine)\n",
    "pd.read_sql_query('select * from \"table\" limit 5', con=engine)"
   ]
  },
  {
   "cell_type": "code",
   "execution_count": 93,
   "metadata": {},
   "outputs": [
    {
     "data": {
      "text/plain": [
       "<matplotlib.axes._subplots.AxesSubplot at 0x7f15f30979b0>"
      ]
     },
     "execution_count": 93,
     "metadata": {},
     "output_type": "execute_result"
    },
    {
     "data": {
      "image/png": "[encoded data removed]",
      "text/plain": [
       "<matplotlib.figure.Figure at 0x7f15f2c3ccf8>"
      ]
     },
     "metadata": {},
     "output_type": "display_data"
    }
   ],
   "source": [
    "color = dict(boxes='DarkGreen', whiskers='DarkOrange',\n",
    "             medians='DarkBlue', caps='Gray')\n",
    "df_box_plot = df[['registered', 'count', 'casual']]\n",
    "df_box_plot.plot.box(color=color, sym='r+')"
   ]
  },
  {
   "cell_type": "markdown",
   "metadata": {},
   "source": [
    "* La réponse à la variable count à prédire se trouve dans les features registered et casual. C'est pourquoi je supprime ces deux colonnes pour ne pas les traiter avec le modèle."
   ]
  },
  {
   "cell_type": "code",
   "execution_count": 20,
   "metadata": {},
   "outputs": [
    {
     "name": "stdout",
     "output_type": "stream",
     "text": [
      "   season   count\n",
      "0       1  312498\n",
      "1       2  588282\n",
      "2       3  640662\n",
      "3       4  544034\n"
     ]
    },
    {
     "data": {
      "text/plain": [
       "array([<matplotlib.axes._subplots.AxesSubplot object at 0x7f15f64d6f60>,\n",
       "       <matplotlib.axes._subplots.AxesSubplot object at 0x7f15f64bf4a8>], dtype=object)"
      ]
     },
     "execution_count": 20,
     "metadata": {},
     "output_type": "execute_result"
    },
    {
     "data": {
      "image/png": "[encoded data removed]",
      "text/plain": [
       "<matplotlib.figure.Figure at 0x7f15f64e09e8>"
      ]
     },
     "metadata": {},
     "output_type": "display_data"
    }
   ],
   "source": [
    "pie = pd.read_sql_query(\n",
    "    'select distinct(season), sum(count) as count from \"table\" group by season', con=engine)\n",
    "print(pie)\n",
    "\n",
    "pie.plot.pie(labels=['printemps', 'été', 'automne', 'hiver'], subplots=True, colors=['r', 'g', 'b', 'c'],\n",
    "             autopct='%.2f', fontsize=10, figsize=(12, 6))"
   ]
  },
  {
   "cell_type": "markdown",
   "metadata": {},
   "source": [
    "- La saison ne semble pas avoir d'influence sur le nombre d'emprunt de vélos."
   ]
  },
  {
   "cell_type": "code",
   "execution_count": 21,
   "metadata": {
    "collapsed": true
   },
   "outputs": [],
   "source": [
    "# Remplacement des features température réelle et ressentie par la moyenne entre les deux (compromis)\n",
    "df['temperature'] = ((df['temp'] + df['atemp']) / 2)\n",
    "del df['temp']\n",
    "del df['atemp']"
   ]
  },
  {
   "cell_type": "code",
   "execution_count": 22,
   "metadata": {
    "collapsed": true
   },
   "outputs": [],
   "source": [
    "# Sauvegarde df pour le réutiliser facilement\n",
    "dft = df.copy()"
   ]
  },
  {
   "cell_type": "code",
   "execution_count": 34,
   "metadata": {
    "collapsed": true
   },
   "outputs": [],
   "source": [
    "# Split des data\n",
    "y = dft['count']\n",
    "X = dft.copy()\n",
    "del X['count']\n",
    "del X['registered']\n",
    "del X['casual']\n",
    "X_train, X_test, y_train, y_test = train_test_split(\n",
    "    X, y, test_size=0.30, random_state=42)"
   ]
  },
  {
   "cell_type": "code",
   "execution_count": 36,
   "metadata": {},
   "outputs": [
    {
     "data": {
      "text/html": [
       "<div>\n",
       "<style>\n",
       "    .dataframe thead tr:only-child th {\n",
       "        text-align: right;\n",
       "    }\n",
       "\n",
       "    .dataframe thead th {\n",
       "        text-align: left;\n",
       "    }\n",
       "\n",
       "    .dataframe tbody tr th {\n",
       "        vertical-align: top;\n",
       "    }\n",
       "</style>\n",
       "<table border=\"1\" class=\"dataframe\">\n",
       "  <thead>\n",
       "    <tr style=\"text-align: right;\">\n",
       "      <th></th>\n",
       "      <th>season</th>\n",
       "      <th>holiday</th>\n",
       "      <th>workingday</th>\n",
       "      <th>weather</th>\n",
       "      <th>humidity</th>\n",
       "      <th>windspeed</th>\n",
       "      <th>heure</th>\n",
       "      <th>temperature</th>\n",
       "    </tr>\n",
       "    <tr>\n",
       "      <th>date</th>\n",
       "      <th></th>\n",
       "      <th></th>\n",
       "      <th></th>\n",
       "      <th></th>\n",
       "      <th></th>\n",
       "      <th></th>\n",
       "      <th></th>\n",
       "      <th></th>\n",
       "    </tr>\n",
       "  </thead>\n",
       "  <tbody>\n",
       "    <tr>\n",
       "      <th>2011-01-01</th>\n",
       "      <td>1</td>\n",
       "      <td>0</td>\n",
       "      <td>0</td>\n",
       "      <td>1</td>\n",
       "      <td>81</td>\n",
       "      <td>0.0</td>\n",
       "      <td>0</td>\n",
       "      <td>12.1175</td>\n",
       "    </tr>\n",
       "    <tr>\n",
       "      <th>2011-01-01</th>\n",
       "      <td>1</td>\n",
       "      <td>0</td>\n",
       "      <td>0</td>\n",
       "      <td>1</td>\n",
       "      <td>80</td>\n",
       "      <td>0.0</td>\n",
       "      <td>1</td>\n",
       "      <td>11.3275</td>\n",
       "    </tr>\n",
       "    <tr>\n",
       "      <th>2011-01-01</th>\n",
       "      <td>1</td>\n",
       "      <td>0</td>\n",
       "      <td>0</td>\n",
       "      <td>1</td>\n",
       "      <td>80</td>\n",
       "      <td>0.0</td>\n",
       "      <td>2</td>\n",
       "      <td>11.3275</td>\n",
       "    </tr>\n",
       "    <tr>\n",
       "      <th>2011-01-01</th>\n",
       "      <td>1</td>\n",
       "      <td>0</td>\n",
       "      <td>0</td>\n",
       "      <td>1</td>\n",
       "      <td>75</td>\n",
       "      <td>0.0</td>\n",
       "      <td>3</td>\n",
       "      <td>12.1175</td>\n",
       "    </tr>\n",
       "    <tr>\n",
       "      <th>2011-01-01</th>\n",
       "      <td>1</td>\n",
       "      <td>0</td>\n",
       "      <td>0</td>\n",
       "      <td>1</td>\n",
       "      <td>75</td>\n",
       "      <td>0.0</td>\n",
       "      <td>4</td>\n",
       "      <td>12.1175</td>\n",
       "    </tr>\n",
       "  </tbody>\n",
       "</table>\n",
       "</div>"
      ],
      "text/plain": [
       "            season  holiday  workingday  weather  humidity  windspeed heure  \\\n",
       "date                                                                          \n",
       "2011-01-01       1        0           0        1        81        0.0     0   \n",
       "2011-01-01       1        0           0        1        80        0.0     1   \n",
       "2011-01-01       1        0           0        1        80        0.0     2   \n",
       "2011-01-01       1        0           0        1        75        0.0     3   \n",
       "2011-01-01       1        0           0        1        75        0.0     4   \n",
       "\n",
       "            temperature  \n",
       "date                     \n",
       "2011-01-01      12.1175  \n",
       "2011-01-01      11.3275  \n",
       "2011-01-01      11.3275  \n",
       "2011-01-01      12.1175  \n",
       "2011-01-01      12.1175  "
      ]
     },
     "execution_count": 36,
     "metadata": {},
     "output_type": "execute_result"
    }
   ],
   "source": [
    "# Dataframe final à destination du modèle\n",
    "X.head()"
   ]
  },
  {
   "cell_type": "markdown",
   "metadata": {},
   "source": [
    "### Test des distributions\n",
    "Etapes du test d’indépendance du khi-carré\n",
    "Pour résumer, les principales étapes du test d’indépendance du Khi-carré sont :\n",
    "\n",
    "1) Si ce n’est pas déjà fait, distribuer la population statistique dans un tableau à deux caractères (âges et sexes) où les modalités et/ou les valeurs sont regroupées par catégories. Dans notre cas nous avons les sexes des individus.\n",
    "\n",
    "2) Calculer le khi-carré dans l’hypothèse d’indépendance des deux caractères : \n",
    "\n",
    "$$ \\chi_{calcul}^{2} = \\sum_{i = 1}^{n} \\sum_{j = 1}^{e} \\frac{(n_{i,j}-e_{i,j})^{2}}{e_{i,j}} $$\n",
    "\n",
    "3) Calculer le nombre de degrés de liberté par la formule :\n",
    "(Nombre de lignes - 1) x (Nombre de colonnes – 1) \n",
    "\n",
    "4) Définir une probabilité d’erreur (en pratique 5%, 1% ou 1 pour mille)\n",
    "\n",
    "5) Utiliser le nombre de degrés de liberté et la probabilité d’erreur pour déterminer le khi-carré théorique à partir de la table fournie.\n",
    "\n",
    "6) comparer la valeur khi-carré calculée avec la valeur khi-carrée théorique (issue de la table) et appliquer la règle suivante : \n",
    "* Si le khi-carré calculé est inférieur au khi-carré théorique : indépendance \n",
    "* Si le khi-carré calculé est supérieur au khi-carré théorique : dépendance"
   ]
  },
  {
   "cell_type": "markdown",
   "metadata": {},
   "source": [
    "## Modèle : Random Forest Regressor"
   ]
  },
  {
   "cell_type": "code",
   "execution_count": 83,
   "metadata": {},
   "outputs": [
    {
     "data": {
      "text/plain": [
       "RandomForestRegressor(bootstrap=True, criterion='mse', max_depth=None,\n",
       "           max_features='auto', max_leaf_nodes=None,\n",
       "           min_impurity_decrease=0.0, min_impurity_split=None,\n",
       "           min_samples_leaf=1, min_samples_split=2,\n",
       "           min_weight_fraction_leaf=0.0, n_estimators=10, n_jobs=1,\n",
       "           oob_score=False, random_state=None, verbose=0, warm_start=False)"
      ]
     },
     "execution_count": 83,
     "metadata": {},
     "output_type": "execute_result"
    }
   ],
   "source": [
    "rf = RandomForestRegressor()\n",
    "rf.fit(X_train, y_train)"
   ]
  },
  {
   "cell_type": "code",
   "execution_count": 84,
   "metadata": {},
   "outputs": [
    {
     "name": "stdout",
     "output_type": "stream",
     "text": [
      "Features :\n",
      "1 season\n",
      "2 holiday\n",
      "3 workingday\n",
      "4 weather\n",
      "5 humidity\n",
      "6 windspeed\n",
      "7 heure\n",
      "8 temperature\n",
      "\n",
      "\n",
      "Features importances rankées:\n",
      "1. feature 7 (0.594034)\n",
      "2. feature 8 (0.154388)\n",
      "3. feature 3 (0.079374)\n",
      "4. feature 5 (0.068939)\n",
      "5. feature 1 (0.040962)\n",
      "6. feature 6 (0.038816)\n",
      "7. feature 4 (0.020180)\n",
      "8. feature 2 (0.003308)\n"
     ]
    }
   ],
   "source": [
    "importances = rf.feature_importances_\n",
    "std = np.std([rf.feature_importances_ for rf in rf.estimators_],\n",
    "             axis=0)\n",
    "indices = np.argsort(importances)[::-1]\n",
    "\n",
    "# Affichage dans l'ordre des features importantes\n",
    "print(\"Features :\")\n",
    "\n",
    "for i in range(0, len(X_train.columns)):\n",
    "    print(i + 1, X_train.columns[i])\n",
    "\n",
    "print(\"\\n\")\n",
    "print(\"Features importances rankées:\")\n",
    "for f in range(X_train.shape[1]):\n",
    "    print(\"%d. feature %d (%f)\" %\n",
    "          (f + 1, indices[f] + 1, importances[indices[f]]))"
   ]
  },
  {
   "cell_type": "code",
   "execution_count": 74,
   "metadata": {},
   "outputs": [
    {
     "name": "stdout",
     "output_type": "stream",
     "text": [
      "Fitting 3 folds for each of 120 candidates, totalling 360 fits\n"
     ]
    },
    {
     "name": "stderr",
     "output_type": "stream",
     "text": [
      "[Parallel(n_jobs=-1)]: Done 262 tasks      | elapsed:    9.7s\n",
      "[Parallel(n_jobs=-1)]: Done 360 out of 360 | elapsed:   18.1s finished\n"
     ]
    },
    {
     "name": "stdout",
     "output_type": "stream",
     "text": [
      "Fitting 3 folds for each of 120 candidates, totalling 360 fits\n"
     ]
    },
    {
     "name": "stderr",
     "output_type": "stream",
     "text": [
      "[Parallel(n_jobs=-1)]: Done 268 tasks      | elapsed:   10.3s\n",
      "[Parallel(n_jobs=-1)]: Done 360 out of 360 | elapsed:   18.3s finished\n"
     ]
    },
    {
     "name": "stdout",
     "output_type": "stream",
     "text": [
      "Fitting 3 folds for each of 120 candidates, totalling 360 fits\n"
     ]
    },
    {
     "name": "stderr",
     "output_type": "stream",
     "text": [
      "[Parallel(n_jobs=-1)]: Done 297 tasks      | elapsed:   10.9s\n",
      "[Parallel(n_jobs=-1)]: Done 353 out of 360 | elapsed:   15.8s remaining:    0.3s\n",
      "[Parallel(n_jobs=-1)]: Done 360 out of 360 | elapsed:   16.4s finished\n"
     ]
    },
    {
     "name": "stdout",
     "output_type": "stream",
     "text": [
      "Fitting 3 folds for each of 120 candidates, totalling 360 fits\n"
     ]
    },
    {
     "name": "stderr",
     "output_type": "stream",
     "text": [
      "[Parallel(n_jobs=-1)]: Done 262 tasks      | elapsed:    9.2s\n",
      "[Parallel(n_jobs=-1)]: Done 360 out of 360 | elapsed:   16.7s finished\n"
     ]
    },
    {
     "name": "stdout",
     "output_type": "stream",
     "text": [
      "Fitting 3 folds for each of 120 candidates, totalling 360 fits\n"
     ]
    },
    {
     "name": "stderr",
     "output_type": "stream",
     "text": [
      "[Parallel(n_jobs=-1)]: Done 268 tasks      | elapsed:    9.3s\n",
      "[Parallel(n_jobs=-1)]: Done 360 out of 360 | elapsed:   16.7s finished\n"
     ]
    },
    {
     "name": "stdout",
     "output_type": "stream",
     "text": [
      "Fitting 3 folds for each of 120 candidates, totalling 360 fits\n"
     ]
    },
    {
     "name": "stderr",
     "output_type": "stream",
     "text": [
      "[Parallel(n_jobs=-1)]: Done 268 tasks      | elapsed:    9.2s\n",
      "[Parallel(n_jobs=-1)]: Done 360 out of 360 | elapsed:   16.6s finished\n"
     ]
    },
    {
     "name": "stdout",
     "output_type": "stream",
     "text": [
      "Fitting 3 folds for each of 120 candidates, totalling 360 fits\n"
     ]
    },
    {
     "name": "stderr",
     "output_type": "stream",
     "text": [
      "[Parallel(n_jobs=-1)]: Done 262 tasks      | elapsed:    9.2s\n",
      "[Parallel(n_jobs=-1)]: Done 360 out of 360 | elapsed:   17.0s finished\n"
     ]
    },
    {
     "name": "stdout",
     "output_type": "stream",
     "text": [
      "Fitting 3 folds for each of 120 candidates, totalling 360 fits\n"
     ]
    },
    {
     "name": "stderr",
     "output_type": "stream",
     "text": [
      "[Parallel(n_jobs=-1)]: Done 297 tasks      | elapsed:   11.1s\n",
      "[Parallel(n_jobs=-1)]: Done 353 out of 360 | elapsed:   16.3s remaining:    0.3s\n",
      "[Parallel(n_jobs=-1)]: Done 360 out of 360 | elapsed:   16.9s finished\n"
     ]
    },
    {
     "name": "stdout",
     "output_type": "stream",
     "text": [
      "Fitting 3 folds for each of 120 candidates, totalling 360 fits\n"
     ]
    },
    {
     "name": "stderr",
     "output_type": "stream",
     "text": [
      "[Parallel(n_jobs=-1)]: Done 262 tasks      | elapsed:   10.4s\n",
      "[Parallel(n_jobs=-1)]: Done 360 out of 360 | elapsed:   19.4s finished\n"
     ]
    },
    {
     "name": "stdout",
     "output_type": "stream",
     "text": [
      "Fitting 3 folds for each of 120 candidates, totalling 360 fits\n"
     ]
    },
    {
     "name": "stderr",
     "output_type": "stream",
     "text": [
      "[Parallel(n_jobs=-1)]: Done 254 tasks      | elapsed:    9.6s\n",
      "[Parallel(n_jobs=-1)]: Done 360 out of 360 | elapsed:   18.5s finished\n"
     ]
    },
    {
     "name": "stdout",
     "output_type": "stream",
     "text": [
      "Fitting 3 folds for each of 120 candidates, totalling 360 fits\n"
     ]
    },
    {
     "name": "stderr",
     "output_type": "stream",
     "text": [
      "[Parallel(n_jobs=-1)]: Done 268 tasks      | elapsed:    9.4s\n",
      "[Parallel(n_jobs=-1)]: Done 360 out of 360 | elapsed:   16.9s finished\n"
     ]
    }
   ],
   "source": [
    "# Random forest et features importance\n",
    "\n",
    "parameters = {'n_estimators': [1, 2, 10, 20, 30],\n",
    "              'max_depth': [1, 2, 5, 8, 10, 14, 18, 20],\n",
    "              'bootstrap': [True],\n",
    "              'random_state': [1, 2, 3]\n",
    "              }\n",
    "\n",
    "rf = RandomForestRegressor()\n",
    "clf = GridSearchCV(rf, parameters, n_jobs=-1, verbose=1)\n",
    "clf.fit(X_train, y_train)\n",
    "scores = cross_val_score(clf, X_train, y_train, cv=10)\n",
    "y_pred = clf.predict(X_test)"
   ]
  },
  {
   "cell_type": "code",
   "execution_count": 85,
   "metadata": {},
   "outputs": [
    {
     "name": "stdout",
     "output_type": "stream",
     "text": [
      "{'bootstrap': True, 'max_depth': 14, 'n_estimators': 30, 'random_state': 3}\n",
      "Meilleur score :  0.833216249454\n"
     ]
    }
   ],
   "source": [
    "print(clf.best_params_)\n",
    "print('Meilleur score : ', clf.best_score_)"
   ]
  },
  {
   "cell_type": "markdown",
   "metadata": {},
   "source": [
    "### Evaluation du modèle"
   ]
  },
  {
   "cell_type": "code",
   "execution_count": 79,
   "metadata": {},
   "outputs": [
    {
     "data": {
      "image/png": "[encoded data removed]",
      "text/plain": [
       "<matplotlib.figure.Figure at 0x7f15f31a9550>"
      ]
     },
     "metadata": {},
     "output_type": "display_data"
    }
   ],
   "source": [
    "scores = pd.DataFrame(scores)\n",
    "scores.plot()\n",
    "\n",
    "plt.xlabel('CV')\n",
    "plt.ylabel('Score')\n",
    "plt.title(\"Scores sur le train de chaque cross validation\")\n",
    "\n",
    "plt.axis()\n",
    "plt.legend(\"scores\", loc='upper center')\n",
    "plt.show()"
   ]
  },
  {
   "cell_type": "code",
   "execution_count": 87,
   "metadata": {
    "collapsed": true
   },
   "outputs": [],
   "source": [
    "y_pred = pd.DataFrame(y_pred)"
   ]
  },
  {
   "cell_type": "code",
   "execution_count": 88,
   "metadata": {
    "scrolled": true
   },
   "outputs": [
    {
     "name": "stdout",
     "output_type": "stream",
     "text": [
      "5 premiers y prédits : \n",
      "             0\n",
      "0   179.074225\n",
      "1    26.600000\n",
      "2   155.304444\n",
      "3   180.976975\n",
      "4   143.417976\n",
      "5   139.844444\n",
      "6   152.231592\n",
      "7   432.379654\n",
      "8   622.889236\n",
      "9   107.870753\n",
      "10    7.428083\n",
      "11   19.058878\n",
      "12  273.295838\n",
      "13   62.668889\n",
      "14  264.087041\n",
      "15   14.514045\n",
      "16   76.001420\n",
      "17  106.938987\n",
      "18  182.952509\n",
      "19   13.220856\n",
      "\n",
      "\n",
      "5 premiers y vrais : \n",
      "date\n",
      "2011-07-19    127\n",
      "2012-01-16     13\n",
      "2011-12-11    163\n",
      "2012-08-15    233\n",
      "2012-06-15    222\n",
      "2012-11-03    166\n",
      "2011-12-16    144\n",
      "2011-07-03    376\n",
      "2012-11-07    601\n",
      "2011-01-02     53\n",
      "2011-11-06      6\n",
      "2012-06-18     14\n",
      "2011-07-07    209\n",
      "2011-08-14     62\n",
      "2011-04-04    139\n",
      "2011-09-11      9\n",
      "2012-09-09     96\n",
      "2011-03-08     98\n",
      "2011-09-10    230\n",
      "2011-07-17     12\n",
      "Name: count, dtype: int64\n"
     ]
    }
   ],
   "source": [
    "print(\"5 premiers y prédits : \")\n",
    "print(y_pred.head(20))\n",
    "print(\"\\n\")\n",
    "print(\"5 premiers y vrais : \")\n",
    "print(y_test.head(20))"
   ]
  },
  {
   "cell_type": "markdown",
   "metadata": {},
   "source": [
    "### R-carré\n",
    "\n",
    "R-carré est une mesure statistique de la proximité des données par rapport à la droite de régression ajustée. Il est également connu comme le coefficient de détermination, ou le coefficient de détermination multiple pour la régression multiple.\n",
    "\n",
    "La définition de R-carré est assez simple; c'est le pourcentage de la variance de la variable de réponse qui est expliqué par un modèle linéaire. Où :\n",
    "\n",
    "R-carré = Variance expliquée / Variance totale\n",
    "\n",
    "R-carré est toujours entre 0 et 100%:\n",
    "\n",
    "* 0% indique que le modèle n'explique pas la variabilité des données de réponse autour de sa moyenne.\n",
    "* 100% indique que le modèle explique toute la variabilité des données de réponse autour de sa moyenne.\n",
    "\n",
    "En général, plus le R-carré est élevé, plus le modèle correspond à vos données. "
   ]
  },
  {
   "cell_type": "code",
   "execution_count": 91,
   "metadata": {},
   "outputs": [
    {
     "name": "stdout",
     "output_type": "stream",
     "text": [
      "Le coefficient de détermination :\n"
     ]
    },
    {
     "data": {
      "text/plain": [
       "0.84328766118324872"
      ]
     },
     "execution_count": 91,
     "metadata": {},
     "output_type": "execute_result"
    }
   ],
   "source": [
    "print('Le coefficient de détermination :')\n",
    "r2_score(y_test, y_pred, sample_weight=None, multioutput='uniform_average')"
   ]
  }
 ],
 "metadata": {
  "kernelspec": {
   "display_name": "Python 3",
   "language": "python",
   "name": "python3"
  },
  "language_info": {
   "codemirror_mode": {
    "name": "ipython",
    "version": 3
   },
   "file_extension": ".py",
   "mimetype": "text/x-python",
   "name": "python",
   "nbconvert_exporter": "python",
   "pygments_lexer": "ipython3",
   "version": "3.6.3"
  }
 },
 "nbformat": 4,
 "nbformat_minor": 2
}
