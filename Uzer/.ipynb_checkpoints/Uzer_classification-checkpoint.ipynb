{
 "cells": [
  {
   "cell_type": "code",
   "execution_count": 1,
   "metadata": {
    "collapsed": true
   },
   "outputs": [],
   "source": [
    "import pandas as pd\n",
    "import numpy as np"
   ]
  },
  {
   "cell_type": "code",
   "execution_count": 2,
   "metadata": {
    "collapsed": true
   },
   "outputs": [],
   "source": [
    "df = pd.read_csv('_products_.csv', sep=';')"
   ]
  },
  {
   "cell_type": "code",
   "execution_count": 3,
   "metadata": {},
   "outputs": [
    {
     "data": {
      "text/html": [
       "<div>\n",
       "<style>\n",
       "    .dataframe thead tr:only-child th {\n",
       "        text-align: right;\n",
       "    }\n",
       "\n",
       "    .dataframe thead th {\n",
       "        text-align: left;\n",
       "    }\n",
       "\n",
       "    .dataframe tbody tr th {\n",
       "        vertical-align: top;\n",
       "    }\n",
       "</style>\n",
       "<table border=\"1\" class=\"dataframe\">\n",
       "  <thead>\n",
       "    <tr style=\"text-align: right;\">\n",
       "      <th></th>\n",
       "      <th>ean</th>\n",
       "      <th>id_retailer</th>\n",
       "      <th>name</th>\n",
       "      <th>brand</th>\n",
       "      <th>packaging</th>\n",
       "      <th>price</th>\n",
       "      <th>ingredients11179431243</th>\n",
       "      <th>Cartons d'invitation Minions</th>\n",
       "      <th>Minions</th>\n",
       "      <th>Le lot de 8</th>\n",
       "      <th>...</th>\n",
       "      <th>Déodorant talc soin</th>\n",
       "      <th>Dove\r\n",
       ".17</th>\n",
       "      <th>L'atomiseur de 100ml.4</th>\n",
       "      <th>4.29.21</th>\n",
       "      <th>9,78168E+12</th>\n",
       "      <th>Pailles Père Noël / Rennes</th>\n",
       "      <th>Dragonart</th>\n",
       "      <th>Le lot.174</th>\n",
       "      <th>6.99.46</th>\n",
       "      <th>Unnamed: 68594</th>\n",
       "    </tr>\n",
       "  </thead>\n",
       "  <tbody>\n",
       "  </tbody>\n",
       "</table>\n",
       "<p>0 rows × 68595 columns</p>\n",
       "</div>"
      ],
      "text/plain": [
       "Empty DataFrame\n",
       "Columns: [ean, id_retailer, name, brand, packaging, price, ingredients11179431243, Cartons d'invitation Minions\n",
       ", Minions\n",
       ", Le lot de 8, 4.11, 11179431328, Serviettes en papier Minions\n",
       ", Minions\n",
       ".1, Le lot de 16, 4.64, 11179431359, Assiettes Minions\n",
       ", Minions\n",
       ".2, Le lot de 8.1, 4.11.1, 11179431366, Gobelets Minions\n",
       ", Minions\n",
       ".3, Le lot de 8.2, 3.61, 11179431434, Sac à bonbons Minions\n",
       ", Minions\n",
       ".4, Le lot de 8.3, 3.08, 11179620081, Sacs à bonbons et attaches\n",
       ", Codima\n",
       ", 30 sacs, 3.08.1, 14100045342, Cookies au chocolat au lait, noix de coco et amandes, Pepperidge Farm, Le paquet de 204g, 3.69, 14100096979, Pepperidge farm - cookies dark chocolate pecan 204g\n",
       ", Pepperidge Farm\n",
       ", Le paquet de 204g.1, 3.75, 14100096986, Double Chocolate, cookies au chocolat noir\n",
       ", Pepperidge Farm\n",
       ".1, Le paquet de 220g, 3.74, 14100096993, Cookies classiques au chocolat noir\n",
       ", Pepperidge Farm\n",
       ".2, Le paquet de 204g.2, 3.69.1, 14100097006, Cookies Milk Chocolat Macadamia\n",
       ", Pepperidge Farm\n",
       ".3, Le paquet de 204g.3, 3.5, 14100097013, Cookies croustillants aux morceaux de chocolat blanc et aux noix de macadamia\n",
       ", Pepperidge Farm\n",
       ".4, Le paquet de 204g.4, 3.74.1, 14100098980, Cookies moelleux aux morceaux de chocolat au lait\n",
       ", Pepperidge Farm\n",
       ".5, Le paquet de 244g, 3.26, 16000275348, Céréales Lucky Charms\n",
       ", Lucky Charms\n",
       ", Le paquet de 340g, 9.35, 22314010025, Crème de marrons de l'Ardèche vanillée\n",
       ", Clément Faugier\n",
       ", La boîte de 500ml, 2.7, Châtaignes, sucre, marrons glacés, sirop de glucose, eau, extrait naturel de vanille22314010049, Crème de marrons de l'Ardèche vanillée\n",
       ".1, Clément Faugier\n",
       ".1, La boîte de 250g, 2.07, Châtaignes, sucre, marrons glacés, sirop de glucose, eau, extrait naturel de vanille22314014108, Crème de marrons de l'ardèche\n",
       ", Clément Faugier\n",
       ".2, Le lot de 4 boîtes de 100g, 4.15, Châtaignes, sucre, marrons glacés, sirop de glucose, eau, extrait naturel de vanille22796970060, Après-shampoing au lait de coco, OGX, Le flacon de 385ml, 10.35, 22796976024, Après-shampooing Brazilian keratin Smooth\n",
       ", OGX.1, Le flacon de 385ml.1, ...]\n",
       "Index: []\n",
       "\n",
       "[0 rows x 68595 columns]"
      ]
     },
     "execution_count": 3,
     "metadata": {},
     "output_type": "execute_result"
    }
   ],
   "source": [
    "df.head()"
   ]
  },
  {
   "cell_type": "code",
   "execution_count": null,
   "metadata": {
    "collapsed": true
   },
   "outputs": [],
   "source": []
  }
 ],
 "metadata": {
  "kernelspec": {
   "display_name": "Python 3",
   "language": "python",
   "name": "python3"
  },
  "language_info": {
   "codemirror_mode": {
    "name": "ipython",
    "version": 3
   },
   "file_extension": ".py",
   "mimetype": "text/x-python",
   "name": "python",
   "nbconvert_exporter": "python",
   "pygments_lexer": "ipython3",
   "version": "3.6.3"
  }
 },
 "nbformat": 4,
 "nbformat_minor": 2
}
