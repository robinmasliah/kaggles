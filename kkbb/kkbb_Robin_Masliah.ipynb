{
 "cells": [
  {
   "cell_type": "markdown",
   "metadata": {},
   "source": [
    "# Exercice technique classification \n",
    "* Robin Masliah"
   ]
  },
  {
   "cell_type": "markdown",
   "metadata": {},
   "source": [
    "### Préambule :\n",
    "\n",
    "Dans cet exercice il s'agit de faire de la recommandation de projet.\n",
    "Prédire variable \"contrib\".\n",
    "\n",
    "### Description des données :\n",
    "Le dataset est constitué de 25 colonnes dont\n",
    "- contrib : variable cible, 1 veut dire que l’utilisateur a participé au projet recommandé, 0 veut dire que ce n’est pas (encore) le cas.\n",
    "\n",
    "Et 23 variables qui constituent l’ensemble des variables d’entrée du problème.\n",
    "\n",
    "Pour répondre à la question je ferai deux modèles pour les challenger l'un à l'autre.    "
   ]
  },
  {
   "cell_type": "code",
   "execution_count": 1,
   "metadata": {
    "collapsed": true
   },
   "outputs": [],
   "source": [
    "import pandas as pd\n",
    "import numpy as np\n",
    "\n",
    "from sklearn.model_selection import train_test_split\n",
    "from datetime import datetime\n",
    "import seaborn as sns\n",
    "%matplotlib inline\n",
    "import matplotlib.pyplot as plt\n",
    "plt.style.use('seaborn')\n",
    "\n",
    "from sqlalchemy import create_engine\n",
    "\n",
    "from sklearn.model_selection import cross_val_score\n",
    "from sklearn.metrics import roc_curve, auc, precision_recall_curve, roc_auc_score\n",
    "from sklearn.metrics import confusion_matrix, precision_score, recall_score, classification_report, average_precision_score\n",
    "\n",
    "from sklearn.ensemble import RandomForestClassifier\n",
    "from sklearn.linear_model import LogisticRegression\n",
    "\n",
    "import warnings\n",
    "warnings.filterwarnings(\"ignore\")"
   ]
  },
  {
   "cell_type": "code",
   "execution_count": 2,
   "metadata": {
    "collapsed": true
   },
   "outputs": [],
   "source": [
    "df = pd.read_csv('./recos_training.csv', sep=',')\n",
    "df1 = pd.read_csv('./recos_test.csv', sep=',')"
   ]
  },
  {
   "cell_type": "code",
   "execution_count": 3,
   "metadata": {},
   "outputs": [
    {
     "data": {
      "text/plain": [
       "Index(['id', 'owner_friend', 'dist', 'nb_copledgers', 'amount_copledgers',\n",
       "       'desc_score_mean', 'amount_friends', 'nb_friends', 'same_owner',\n",
       "       'music', 'live-performance', 'journalism', 'book-and-publishing',\n",
       "       'design-and-innovation', 'film-and-video', 'style', 'photography',\n",
       "       'social', 'web-and-tech', 'education', 'art', 'adventure-and-sport',\n",
       "       'food', 'ecology', 'contrib'],\n",
       "      dtype='object')"
      ]
     },
     "execution_count": 3,
     "metadata": {},
     "output_type": "execute_result"
    }
   ],
   "source": [
    "df.columns"
   ]
  },
  {
   "cell_type": "code",
   "execution_count": 4,
   "metadata": {},
   "outputs": [
    {
     "data": {
      "text/html": [
       "<div>\n",
       "<style>\n",
       "    .dataframe thead tr:only-child th {\n",
       "        text-align: right;\n",
       "    }\n",
       "\n",
       "    .dataframe thead th {\n",
       "        text-align: left;\n",
       "    }\n",
       "\n",
       "    .dataframe tbody tr th {\n",
       "        vertical-align: top;\n",
       "    }\n",
       "</style>\n",
       "<table border=\"1\" class=\"dataframe\">\n",
       "  <thead>\n",
       "    <tr style=\"text-align: right;\">\n",
       "      <th></th>\n",
       "      <th>id</th>\n",
       "      <th>owner_friend</th>\n",
       "      <th>dist</th>\n",
       "      <th>nb_copledgers</th>\n",
       "      <th>amount_copledgers</th>\n",
       "      <th>desc_score_mean</th>\n",
       "      <th>amount_friends</th>\n",
       "      <th>nb_friends</th>\n",
       "      <th>same_owner</th>\n",
       "      <th>music</th>\n",
       "      <th>...</th>\n",
       "      <th>style</th>\n",
       "      <th>photography</th>\n",
       "      <th>social</th>\n",
       "      <th>web-and-tech</th>\n",
       "      <th>education</th>\n",
       "      <th>art</th>\n",
       "      <th>adventure-and-sport</th>\n",
       "      <th>food</th>\n",
       "      <th>ecology</th>\n",
       "      <th>contrib</th>\n",
       "    </tr>\n",
       "  </thead>\n",
       "  <tbody>\n",
       "    <tr>\n",
       "      <th>count</th>\n",
       "      <td>13866.000000</td>\n",
       "      <td>13866.000000</td>\n",
       "      <td>13866.000000</td>\n",
       "      <td>13866.000000</td>\n",
       "      <td>13866.000000</td>\n",
       "      <td>13866.000000</td>\n",
       "      <td>13866.000000</td>\n",
       "      <td>13866.000000</td>\n",
       "      <td>13866.000000</td>\n",
       "      <td>13866.000000</td>\n",
       "      <td>...</td>\n",
       "      <td>13866.000000</td>\n",
       "      <td>13866.000000</td>\n",
       "      <td>13866.000000</td>\n",
       "      <td>13866.000000</td>\n",
       "      <td>13866.000000</td>\n",
       "      <td>13866.000000</td>\n",
       "      <td>13866.000000</td>\n",
       "      <td>13866.000000</td>\n",
       "      <td>13866.000000</td>\n",
       "      <td>13866.000000</td>\n",
       "    </tr>\n",
       "    <tr>\n",
       "      <th>mean</th>\n",
       "      <td>6932.500000</td>\n",
       "      <td>0.000072</td>\n",
       "      <td>0.208638</td>\n",
       "      <td>0.022634</td>\n",
       "      <td>64.392399</td>\n",
       "      <td>0.695078</td>\n",
       "      <td>0.095630</td>\n",
       "      <td>0.001947</td>\n",
       "      <td>0.005770</td>\n",
       "      <td>0.002615</td>\n",
       "      <td>...</td>\n",
       "      <td>0.000630</td>\n",
       "      <td>0.001136</td>\n",
       "      <td>0.003102</td>\n",
       "      <td>0.000359</td>\n",
       "      <td>0.002836</td>\n",
       "      <td>0.001016</td>\n",
       "      <td>0.001239</td>\n",
       "      <td>0.001631</td>\n",
       "      <td>0.003068</td>\n",
       "      <td>0.026395</td>\n",
       "    </tr>\n",
       "    <tr>\n",
       "      <th>std</th>\n",
       "      <td>4002.913751</td>\n",
       "      <td>0.008492</td>\n",
       "      <td>0.356570</td>\n",
       "      <td>0.074816</td>\n",
       "      <td>410.841301</td>\n",
       "      <td>0.385190</td>\n",
       "      <td>3.331208</td>\n",
       "      <td>0.048747</td>\n",
       "      <td>0.075741</td>\n",
       "      <td>0.014111</td>\n",
       "      <td>...</td>\n",
       "      <td>0.007612</td>\n",
       "      <td>0.010867</td>\n",
       "      <td>0.014353</td>\n",
       "      <td>0.007778</td>\n",
       "      <td>0.018050</td>\n",
       "      <td>0.007564</td>\n",
       "      <td>0.011297</td>\n",
       "      <td>0.009210</td>\n",
       "      <td>0.014694</td>\n",
       "      <td>0.160314</td>\n",
       "    </tr>\n",
       "    <tr>\n",
       "      <th>min</th>\n",
       "      <td>0.000000</td>\n",
       "      <td>0.000000</td>\n",
       "      <td>0.000000</td>\n",
       "      <td>0.000000</td>\n",
       "      <td>0.000000</td>\n",
       "      <td>0.000000</td>\n",
       "      <td>0.000000</td>\n",
       "      <td>0.000000</td>\n",
       "      <td>0.000000</td>\n",
       "      <td>0.000000</td>\n",
       "      <td>...</td>\n",
       "      <td>0.000000</td>\n",
       "      <td>0.000000</td>\n",
       "      <td>0.000000</td>\n",
       "      <td>0.000000</td>\n",
       "      <td>0.000000</td>\n",
       "      <td>0.000000</td>\n",
       "      <td>0.000000</td>\n",
       "      <td>0.000000</td>\n",
       "      <td>0.000000</td>\n",
       "      <td>0.000000</td>\n",
       "    </tr>\n",
       "    <tr>\n",
       "      <th>25%</th>\n",
       "      <td>3466.250000</td>\n",
       "      <td>0.000000</td>\n",
       "      <td>0.000000</td>\n",
       "      <td>0.000000</td>\n",
       "      <td>0.000000</td>\n",
       "      <td>0.731103</td>\n",
       "      <td>0.000000</td>\n",
       "      <td>0.000000</td>\n",
       "      <td>0.000000</td>\n",
       "      <td>0.000000</td>\n",
       "      <td>...</td>\n",
       "      <td>0.000000</td>\n",
       "      <td>0.000000</td>\n",
       "      <td>0.000000</td>\n",
       "      <td>0.000000</td>\n",
       "      <td>0.000000</td>\n",
       "      <td>0.000000</td>\n",
       "      <td>0.000000</td>\n",
       "      <td>0.000000</td>\n",
       "      <td>0.000000</td>\n",
       "      <td>0.000000</td>\n",
       "    </tr>\n",
       "    <tr>\n",
       "      <th>50%</th>\n",
       "      <td>6932.500000</td>\n",
       "      <td>0.000000</td>\n",
       "      <td>0.000000</td>\n",
       "      <td>0.000000</td>\n",
       "      <td>0.000000</td>\n",
       "      <td>0.904186</td>\n",
       "      <td>0.000000</td>\n",
       "      <td>0.000000</td>\n",
       "      <td>0.000000</td>\n",
       "      <td>0.000000</td>\n",
       "      <td>...</td>\n",
       "      <td>0.000000</td>\n",
       "      <td>0.000000</td>\n",
       "      <td>0.000000</td>\n",
       "      <td>0.000000</td>\n",
       "      <td>0.000000</td>\n",
       "      <td>0.000000</td>\n",
       "      <td>0.000000</td>\n",
       "      <td>0.000000</td>\n",
       "      <td>0.000000</td>\n",
       "      <td>0.000000</td>\n",
       "    </tr>\n",
       "    <tr>\n",
       "      <th>75%</th>\n",
       "      <td>10398.750000</td>\n",
       "      <td>0.000000</td>\n",
       "      <td>0.391770</td>\n",
       "      <td>0.000000</td>\n",
       "      <td>0.000000</td>\n",
       "      <td>0.930128</td>\n",
       "      <td>0.000000</td>\n",
       "      <td>0.000000</td>\n",
       "      <td>0.000000</td>\n",
       "      <td>0.000000</td>\n",
       "      <td>...</td>\n",
       "      <td>0.000000</td>\n",
       "      <td>0.000000</td>\n",
       "      <td>0.000000</td>\n",
       "      <td>0.000000</td>\n",
       "      <td>0.000000</td>\n",
       "      <td>0.000000</td>\n",
       "      <td>0.000000</td>\n",
       "      <td>0.000000</td>\n",
       "      <td>0.000000</td>\n",
       "      <td>0.000000</td>\n",
       "    </tr>\n",
       "    <tr>\n",
       "      <th>max</th>\n",
       "      <td>13865.000000</td>\n",
       "      <td>1.000000</td>\n",
       "      <td>1.000000</td>\n",
       "      <td>0.988600</td>\n",
       "      <td>23045.000000</td>\n",
       "      <td>0.982963</td>\n",
       "      <td>280.000000</td>\n",
       "      <td>3.000000</td>\n",
       "      <td>1.000000</td>\n",
       "      <td>0.214298</td>\n",
       "      <td>...</td>\n",
       "      <td>0.200008</td>\n",
       "      <td>0.333333</td>\n",
       "      <td>0.230782</td>\n",
       "      <td>0.333333</td>\n",
       "      <td>0.333356</td>\n",
       "      <td>0.187512</td>\n",
       "      <td>0.260872</td>\n",
       "      <td>0.153849</td>\n",
       "      <td>0.285722</td>\n",
       "      <td>1.000000</td>\n",
       "    </tr>\n",
       "  </tbody>\n",
       "</table>\n",
       "<p>8 rows × 25 columns</p>\n",
       "</div>"
      ],
      "text/plain": [
       "                 id  owner_friend          dist  nb_copledgers  \\\n",
       "count  13866.000000  13866.000000  13866.000000   13866.000000   \n",
       "mean    6932.500000      0.000072      0.208638       0.022634   \n",
       "std     4002.913751      0.008492      0.356570       0.074816   \n",
       "min        0.000000      0.000000      0.000000       0.000000   \n",
       "25%     3466.250000      0.000000      0.000000       0.000000   \n",
       "50%     6932.500000      0.000000      0.000000       0.000000   \n",
       "75%    10398.750000      0.000000      0.391770       0.000000   \n",
       "max    13865.000000      1.000000      1.000000       0.988600   \n",
       "\n",
       "       amount_copledgers  desc_score_mean  amount_friends    nb_friends  \\\n",
       "count       13866.000000     13866.000000    13866.000000  13866.000000   \n",
       "mean           64.392399         0.695078        0.095630      0.001947   \n",
       "std           410.841301         0.385190        3.331208      0.048747   \n",
       "min             0.000000         0.000000        0.000000      0.000000   \n",
       "25%             0.000000         0.731103        0.000000      0.000000   \n",
       "50%             0.000000         0.904186        0.000000      0.000000   \n",
       "75%             0.000000         0.930128        0.000000      0.000000   \n",
       "max         23045.000000         0.982963      280.000000      3.000000   \n",
       "\n",
       "         same_owner         music      ...              style   photography  \\\n",
       "count  13866.000000  13866.000000      ...       13866.000000  13866.000000   \n",
       "mean       0.005770      0.002615      ...           0.000630      0.001136   \n",
       "std        0.075741      0.014111      ...           0.007612      0.010867   \n",
       "min        0.000000      0.000000      ...           0.000000      0.000000   \n",
       "25%        0.000000      0.000000      ...           0.000000      0.000000   \n",
       "50%        0.000000      0.000000      ...           0.000000      0.000000   \n",
       "75%        0.000000      0.000000      ...           0.000000      0.000000   \n",
       "max        1.000000      0.214298      ...           0.200008      0.333333   \n",
       "\n",
       "             social  web-and-tech     education           art  \\\n",
       "count  13866.000000  13866.000000  13866.000000  13866.000000   \n",
       "mean       0.003102      0.000359      0.002836      0.001016   \n",
       "std        0.014353      0.007778      0.018050      0.007564   \n",
       "min        0.000000      0.000000      0.000000      0.000000   \n",
       "25%        0.000000      0.000000      0.000000      0.000000   \n",
       "50%        0.000000      0.000000      0.000000      0.000000   \n",
       "75%        0.000000      0.000000      0.000000      0.000000   \n",
       "max        0.230782      0.333333      0.333356      0.187512   \n",
       "\n",
       "       adventure-and-sport          food       ecology       contrib  \n",
       "count         13866.000000  13866.000000  13866.000000  13866.000000  \n",
       "mean              0.001239      0.001631      0.003068      0.026395  \n",
       "std               0.011297      0.009210      0.014694      0.160314  \n",
       "min               0.000000      0.000000      0.000000      0.000000  \n",
       "25%               0.000000      0.000000      0.000000      0.000000  \n",
       "50%               0.000000      0.000000      0.000000      0.000000  \n",
       "75%               0.000000      0.000000      0.000000      0.000000  \n",
       "max               0.260872      0.153849      0.285722      1.000000  \n",
       "\n",
       "[8 rows x 25 columns]"
      ]
     },
     "execution_count": 4,
     "metadata": {},
     "output_type": "execute_result"
    }
   ],
   "source": [
    "df.describe()"
   ]
  },
  {
   "cell_type": "code",
   "execution_count": 5,
   "metadata": {},
   "outputs": [
    {
     "data": {
      "text/plain": [
       "array([ 0.,  1.])"
      ]
     },
     "execution_count": 5,
     "metadata": {},
     "output_type": "execute_result"
    }
   ],
   "source": [
    "df.contrib.unique()"
   ]
  },
  {
   "cell_type": "code",
   "execution_count": 6,
   "metadata": {},
   "outputs": [
    {
     "data": {
      "text/html": [
       "<div>\n",
       "<style>\n",
       "    .dataframe thead tr:only-child th {\n",
       "        text-align: right;\n",
       "    }\n",
       "\n",
       "    .dataframe thead th {\n",
       "        text-align: left;\n",
       "    }\n",
       "\n",
       "    .dataframe tbody tr th {\n",
       "        vertical-align: top;\n",
       "    }\n",
       "</style>\n",
       "<table border=\"1\" class=\"dataframe\">\n",
       "  <thead>\n",
       "    <tr style=\"text-align: right;\">\n",
       "      <th></th>\n",
       "      <th>id</th>\n",
       "      <th>owner_friend</th>\n",
       "      <th>dist</th>\n",
       "      <th>nb_copledgers</th>\n",
       "      <th>amount_copledgers</th>\n",
       "      <th>desc_score_mean</th>\n",
       "      <th>amount_friends</th>\n",
       "      <th>nb_friends</th>\n",
       "      <th>same_owner</th>\n",
       "      <th>music</th>\n",
       "      <th>...</th>\n",
       "      <th>style</th>\n",
       "      <th>photography</th>\n",
       "      <th>social</th>\n",
       "      <th>web-and-tech</th>\n",
       "      <th>education</th>\n",
       "      <th>art</th>\n",
       "      <th>adventure-and-sport</th>\n",
       "      <th>food</th>\n",
       "      <th>ecology</th>\n",
       "      <th>contrib</th>\n",
       "    </tr>\n",
       "  </thead>\n",
       "  <tbody>\n",
       "    <tr>\n",
       "      <th>0</th>\n",
       "      <td>0</td>\n",
       "      <td>0.0</td>\n",
       "      <td>0.079014</td>\n",
       "      <td>0.0000</td>\n",
       "      <td>0.0</td>\n",
       "      <td>0.893995</td>\n",
       "      <td>0.0</td>\n",
       "      <td>0.0</td>\n",
       "      <td>0.0</td>\n",
       "      <td>0.0</td>\n",
       "      <td>...</td>\n",
       "      <td>0.0</td>\n",
       "      <td>0.0</td>\n",
       "      <td>0.0</td>\n",
       "      <td>0.0</td>\n",
       "      <td>0.0</td>\n",
       "      <td>0.017690</td>\n",
       "      <td>0.0</td>\n",
       "      <td>0.0</td>\n",
       "      <td>0.0</td>\n",
       "      <td>0.0</td>\n",
       "    </tr>\n",
       "    <tr>\n",
       "      <th>1</th>\n",
       "      <td>1</td>\n",
       "      <td>0.0</td>\n",
       "      <td>0.945677</td>\n",
       "      <td>0.0049</td>\n",
       "      <td>339.0</td>\n",
       "      <td>0.861315</td>\n",
       "      <td>0.0</td>\n",
       "      <td>0.0</td>\n",
       "      <td>0.0</td>\n",
       "      <td>0.0</td>\n",
       "      <td>...</td>\n",
       "      <td>0.0</td>\n",
       "      <td>0.0</td>\n",
       "      <td>0.0</td>\n",
       "      <td>0.0</td>\n",
       "      <td>0.0</td>\n",
       "      <td>0.011792</td>\n",
       "      <td>0.0</td>\n",
       "      <td>0.0</td>\n",
       "      <td>0.0</td>\n",
       "      <td>0.0</td>\n",
       "    </tr>\n",
       "    <tr>\n",
       "      <th>2</th>\n",
       "      <td>2</td>\n",
       "      <td>0.0</td>\n",
       "      <td>0.000000</td>\n",
       "      <td>0.0000</td>\n",
       "      <td>0.0</td>\n",
       "      <td>0.887326</td>\n",
       "      <td>20.0</td>\n",
       "      <td>1.0</td>\n",
       "      <td>0.0</td>\n",
       "      <td>0.0</td>\n",
       "      <td>...</td>\n",
       "      <td>0.0</td>\n",
       "      <td>0.0</td>\n",
       "      <td>0.0</td>\n",
       "      <td>0.0</td>\n",
       "      <td>0.0</td>\n",
       "      <td>0.000000</td>\n",
       "      <td>0.0</td>\n",
       "      <td>0.0</td>\n",
       "      <td>0.0</td>\n",
       "      <td>0.0</td>\n",
       "    </tr>\n",
       "    <tr>\n",
       "      <th>3</th>\n",
       "      <td>3</td>\n",
       "      <td>0.0</td>\n",
       "      <td>0.000000</td>\n",
       "      <td>0.2469</td>\n",
       "      <td>36.0</td>\n",
       "      <td>0.886949</td>\n",
       "      <td>0.0</td>\n",
       "      <td>0.0</td>\n",
       "      <td>0.0</td>\n",
       "      <td>0.0</td>\n",
       "      <td>...</td>\n",
       "      <td>0.0</td>\n",
       "      <td>0.0</td>\n",
       "      <td>0.0</td>\n",
       "      <td>0.0</td>\n",
       "      <td>0.0</td>\n",
       "      <td>0.000000</td>\n",
       "      <td>0.0</td>\n",
       "      <td>0.0</td>\n",
       "      <td>0.0</td>\n",
       "      <td>0.0</td>\n",
       "    </tr>\n",
       "    <tr>\n",
       "      <th>4</th>\n",
       "      <td>4</td>\n",
       "      <td>0.0</td>\n",
       "      <td>0.000000</td>\n",
       "      <td>0.0700</td>\n",
       "      <td>1875.0</td>\n",
       "      <td>0.000000</td>\n",
       "      <td>80.0</td>\n",
       "      <td>1.0</td>\n",
       "      <td>0.0</td>\n",
       "      <td>0.0</td>\n",
       "      <td>...</td>\n",
       "      <td>0.0</td>\n",
       "      <td>0.0</td>\n",
       "      <td>0.0</td>\n",
       "      <td>0.0</td>\n",
       "      <td>0.0</td>\n",
       "      <td>0.000000</td>\n",
       "      <td>0.0</td>\n",
       "      <td>0.0</td>\n",
       "      <td>0.0</td>\n",
       "      <td>1.0</td>\n",
       "    </tr>\n",
       "  </tbody>\n",
       "</table>\n",
       "<p>5 rows × 25 columns</p>\n",
       "</div>"
      ],
      "text/plain": [
       "   id  owner_friend      dist  nb_copledgers  amount_copledgers  \\\n",
       "0   0           0.0  0.079014         0.0000                0.0   \n",
       "1   1           0.0  0.945677         0.0049              339.0   \n",
       "2   2           0.0  0.000000         0.0000                0.0   \n",
       "3   3           0.0  0.000000         0.2469               36.0   \n",
       "4   4           0.0  0.000000         0.0700             1875.0   \n",
       "\n",
       "   desc_score_mean  amount_friends  nb_friends  same_owner  music   ...     \\\n",
       "0         0.893995             0.0         0.0         0.0    0.0   ...      \n",
       "1         0.861315             0.0         0.0         0.0    0.0   ...      \n",
       "2         0.887326            20.0         1.0         0.0    0.0   ...      \n",
       "3         0.886949             0.0         0.0         0.0    0.0   ...      \n",
       "4         0.000000            80.0         1.0         0.0    0.0   ...      \n",
       "\n",
       "   style  photography  social  web-and-tech  education       art  \\\n",
       "0    0.0          0.0     0.0           0.0        0.0  0.017690   \n",
       "1    0.0          0.0     0.0           0.0        0.0  0.011792   \n",
       "2    0.0          0.0     0.0           0.0        0.0  0.000000   \n",
       "3    0.0          0.0     0.0           0.0        0.0  0.000000   \n",
       "4    0.0          0.0     0.0           0.0        0.0  0.000000   \n",
       "\n",
       "   adventure-and-sport  food  ecology  contrib  \n",
       "0                  0.0   0.0      0.0      0.0  \n",
       "1                  0.0   0.0      0.0      0.0  \n",
       "2                  0.0   0.0      0.0      0.0  \n",
       "3                  0.0   0.0      0.0      0.0  \n",
       "4                  0.0   0.0      0.0      1.0  \n",
       "\n",
       "[5 rows x 25 columns]"
      ]
     },
     "execution_count": 6,
     "metadata": {},
     "output_type": "execute_result"
    }
   ],
   "source": [
    "df.head()"
   ]
  },
  {
   "cell_type": "code",
   "execution_count": 7,
   "metadata": {},
   "outputs": [
    {
     "data": {
      "text/plain": [
       "<matplotlib.axes._subplots.AxesSubplot at 0x7f81a28ae208>"
      ]
     },
     "execution_count": 7,
     "metadata": {},
     "output_type": "execute_result"
    },
    {
     "data": {
      "image/png": "[encoded data removed]",
      "text/plain": [
       "<matplotlib.figure.Figure at 0x7f81a284eb38>"
      ]
     },
     "metadata": {},
     "output_type": "display_data"
    }
   ],
   "source": [
    "# Etude des corrélations entre les features\n",
    "f, ax = plt.subplots(figsize=(10, 8))\n",
    "corr = df.corr()\n",
    "sns.heatmap(corr, mask=np.zeros_like(corr, dtype=np.bool), cmap=sns.diverging_palette(220, 10, as_cmap=True),\n",
    "            square=True, ax=ax)"
   ]
  },
  {
   "cell_type": "markdown",
   "metadata": {},
   "source": [
    "* Les features sont glogalement très peu corrélées entres elles."
   ]
  },
  {
   "cell_type": "code",
   "execution_count": 8,
   "metadata": {
    "collapsed": true
   },
   "outputs": [],
   "source": [
    "# Je retire id pour ne pas induire le modèle en erreur.\n",
    "train = df.copy()\n",
    "test = df1.copy()\n",
    "del train['id']\n",
    "del test['id']"
   ]
  },
  {
   "cell_type": "code",
   "execution_count": 9,
   "metadata": {},
   "outputs": [
    {
     "data": {
      "text/html": [
       "<div>\n",
       "<style>\n",
       "    .dataframe thead tr:only-child th {\n",
       "        text-align: right;\n",
       "    }\n",
       "\n",
       "    .dataframe thead th {\n",
       "        text-align: left;\n",
       "    }\n",
       "\n",
       "    .dataframe tbody tr th {\n",
       "        vertical-align: top;\n",
       "    }\n",
       "</style>\n",
       "<table border=\"1\" class=\"dataframe\">\n",
       "  <thead>\n",
       "    <tr style=\"text-align: right;\">\n",
       "      <th></th>\n",
       "      <th>index</th>\n",
       "      <th>owner_friend</th>\n",
       "      <th>dist</th>\n",
       "      <th>nb_copledgers</th>\n",
       "      <th>amount_copledgers</th>\n",
       "      <th>desc_score_mean</th>\n",
       "      <th>amount_friends</th>\n",
       "      <th>nb_friends</th>\n",
       "      <th>same_owner</th>\n",
       "      <th>music</th>\n",
       "      <th>...</th>\n",
       "      <th>style</th>\n",
       "      <th>photography</th>\n",
       "      <th>social</th>\n",
       "      <th>web-and-tech</th>\n",
       "      <th>education</th>\n",
       "      <th>art</th>\n",
       "      <th>adventure-and-sport</th>\n",
       "      <th>food</th>\n",
       "      <th>ecology</th>\n",
       "      <th>contrib</th>\n",
       "    </tr>\n",
       "  </thead>\n",
       "  <tbody>\n",
       "    <tr>\n",
       "      <th>0</th>\n",
       "      <td>0</td>\n",
       "      <td>0.0</td>\n",
       "      <td>0.538569</td>\n",
       "      <td>0.0</td>\n",
       "      <td>0.0</td>\n",
       "      <td>0.88178</td>\n",
       "      <td>0.0</td>\n",
       "      <td>0.0</td>\n",
       "      <td>0.0</td>\n",
       "      <td>0.0</td>\n",
       "      <td>...</td>\n",
       "      <td>0.0</td>\n",
       "      <td>0.0</td>\n",
       "      <td>0.0</td>\n",
       "      <td>0.0</td>\n",
       "      <td>0.0</td>\n",
       "      <td>0.000000</td>\n",
       "      <td>0.0</td>\n",
       "      <td>0.0</td>\n",
       "      <td>0.0</td>\n",
       "      <td>0.0</td>\n",
       "    </tr>\n",
       "    <tr>\n",
       "      <th>1</th>\n",
       "      <td>1</td>\n",
       "      <td>0.0</td>\n",
       "      <td>0.000000</td>\n",
       "      <td>0.0</td>\n",
       "      <td>0.0</td>\n",
       "      <td>0.00000</td>\n",
       "      <td>0.0</td>\n",
       "      <td>0.0</td>\n",
       "      <td>0.0</td>\n",
       "      <td>0.0</td>\n",
       "      <td>...</td>\n",
       "      <td>0.0</td>\n",
       "      <td>0.0</td>\n",
       "      <td>0.0</td>\n",
       "      <td>0.0</td>\n",
       "      <td>0.0</td>\n",
       "      <td>0.000000</td>\n",
       "      <td>0.0</td>\n",
       "      <td>0.0</td>\n",
       "      <td>0.0</td>\n",
       "      <td>0.0</td>\n",
       "    </tr>\n",
       "    <tr>\n",
       "      <th>2</th>\n",
       "      <td>2</td>\n",
       "      <td>0.0</td>\n",
       "      <td>0.000000</td>\n",
       "      <td>0.0</td>\n",
       "      <td>0.0</td>\n",
       "      <td>0.00000</td>\n",
       "      <td>0.0</td>\n",
       "      <td>0.0</td>\n",
       "      <td>0.0</td>\n",
       "      <td>0.0</td>\n",
       "      <td>...</td>\n",
       "      <td>0.0</td>\n",
       "      <td>0.0</td>\n",
       "      <td>0.0</td>\n",
       "      <td>0.0</td>\n",
       "      <td>0.0</td>\n",
       "      <td>0.062504</td>\n",
       "      <td>0.0</td>\n",
       "      <td>0.0</td>\n",
       "      <td>0.0</td>\n",
       "      <td>0.0</td>\n",
       "    </tr>\n",
       "    <tr>\n",
       "      <th>3</th>\n",
       "      <td>3</td>\n",
       "      <td>0.0</td>\n",
       "      <td>0.000000</td>\n",
       "      <td>0.0</td>\n",
       "      <td>0.0</td>\n",
       "      <td>0.00000</td>\n",
       "      <td>0.0</td>\n",
       "      <td>0.0</td>\n",
       "      <td>0.0</td>\n",
       "      <td>0.0</td>\n",
       "      <td>...</td>\n",
       "      <td>0.0</td>\n",
       "      <td>0.0</td>\n",
       "      <td>0.0</td>\n",
       "      <td>0.0</td>\n",
       "      <td>0.0</td>\n",
       "      <td>0.000000</td>\n",
       "      <td>0.0</td>\n",
       "      <td>0.0</td>\n",
       "      <td>0.0</td>\n",
       "      <td>0.0</td>\n",
       "    </tr>\n",
       "    <tr>\n",
       "      <th>4</th>\n",
       "      <td>4</td>\n",
       "      <td>0.0</td>\n",
       "      <td>0.000000</td>\n",
       "      <td>0.0</td>\n",
       "      <td>0.0</td>\n",
       "      <td>0.00000</td>\n",
       "      <td>0.0</td>\n",
       "      <td>0.0</td>\n",
       "      <td>0.0</td>\n",
       "      <td>0.0</td>\n",
       "      <td>...</td>\n",
       "      <td>0.0</td>\n",
       "      <td>0.0</td>\n",
       "      <td>0.0</td>\n",
       "      <td>0.0</td>\n",
       "      <td>0.0</td>\n",
       "      <td>0.062504</td>\n",
       "      <td>0.0</td>\n",
       "      <td>0.0</td>\n",
       "      <td>0.0</td>\n",
       "      <td>0.0</td>\n",
       "    </tr>\n",
       "  </tbody>\n",
       "</table>\n",
       "<p>5 rows × 25 columns</p>\n",
       "</div>"
      ],
      "text/plain": [
       "   index  owner_friend      dist  nb_copledgers  amount_copledgers  \\\n",
       "0      0           0.0  0.538569            0.0                0.0   \n",
       "1      1           0.0  0.000000            0.0                0.0   \n",
       "2      2           0.0  0.000000            0.0                0.0   \n",
       "3      3           0.0  0.000000            0.0                0.0   \n",
       "4      4           0.0  0.000000            0.0                0.0   \n",
       "\n",
       "   desc_score_mean  amount_friends  nb_friends  same_owner  music   ...     \\\n",
       "0          0.88178             0.0         0.0         0.0    0.0   ...      \n",
       "1          0.00000             0.0         0.0         0.0    0.0   ...      \n",
       "2          0.00000             0.0         0.0         0.0    0.0   ...      \n",
       "3          0.00000             0.0         0.0         0.0    0.0   ...      \n",
       "4          0.00000             0.0         0.0         0.0    0.0   ...      \n",
       "\n",
       "   style  photography  social  web-and-tech  education       art  \\\n",
       "0    0.0          0.0     0.0           0.0        0.0  0.000000   \n",
       "1    0.0          0.0     0.0           0.0        0.0  0.000000   \n",
       "2    0.0          0.0     0.0           0.0        0.0  0.062504   \n",
       "3    0.0          0.0     0.0           0.0        0.0  0.000000   \n",
       "4    0.0          0.0     0.0           0.0        0.0  0.062504   \n",
       "\n",
       "   adventure-and-sport  food  ecology  contrib  \n",
       "0                  0.0   0.0      0.0      0.0  \n",
       "1                  0.0   0.0      0.0      0.0  \n",
       "2                  0.0   0.0      0.0      0.0  \n",
       "3                  0.0   0.0      0.0      0.0  \n",
       "4                  0.0   0.0      0.0      0.0  \n",
       "\n",
       "[5 rows x 25 columns]"
      ]
     },
     "execution_count": 9,
     "metadata": {},
     "output_type": "execute_result"
    }
   ],
   "source": [
    "# SQL engine pour pouvoir explorer les données à l'oeil nu rapidement à titre observatoire.\n",
    "engine = create_engine('sqlite:///:memory:')\n",
    "test.to_sql('table', engine)\n",
    "pd.read_sql_table('table', engine)\n",
    "pd.read_sql_query('select * from \"table\" limit 5', con=engine)"
   ]
  },
  {
   "cell_type": "code",
   "execution_count": 10,
   "metadata": {},
   "outputs": [
    {
     "name": "stdout",
     "output_type": "stream",
     "text": [
      "   Nb_1\n",
      "0    36\n",
      "\n",
      "\n",
      "   Nb_0\n",
      "0  4587\n"
     ]
    }
   ],
   "source": [
    "# Proportion de 1 et 0 dans le test set\n",
    "print(pd.read_sql_query('select count(*) as Nb_1 from \"table\" where contrib = \"1.0\"', con=engine))\n",
    "print('\\n')\n",
    "print(pd.read_sql_query('select count(*) as Nb_0 from \"table\" where contrib = \"0.0\"', con=engine))"
   ]
  },
  {
   "cell_type": "markdown",
   "metadata": {},
   "source": [
    "* La classe est très déséquilibrée il sera donc difficile de prédire les vrais positifs."
   ]
  },
  {
   "cell_type": "code",
   "execution_count": 11,
   "metadata": {
    "collapsed": true
   },
   "outputs": [],
   "source": [
    "y_train = train['contrib']\n",
    "X_train = train.copy()\n",
    "del X_train['contrib']"
   ]
  },
  {
   "cell_type": "code",
   "execution_count": 12,
   "metadata": {
    "collapsed": true
   },
   "outputs": [],
   "source": [
    "y_test = test['contrib']\n",
    "X_test = test.copy()\n",
    "del X_test['contrib']"
   ]
  },
  {
   "cell_type": "code",
   "execution_count": 13,
   "metadata": {},
   "outputs": [
    {
     "data": {
      "text/plain": [
       "RandomForestClassifier(bootstrap=True, class_weight=None, criterion='gini',\n",
       "            max_depth=None, max_features='auto', max_leaf_nodes=None,\n",
       "            min_impurity_decrease=0.0, min_impurity_split=None,\n",
       "            min_samples_leaf=1, min_samples_split=2,\n",
       "            min_weight_fraction_leaf=0.0, n_estimators=10, n_jobs=1,\n",
       "            oob_score=False, random_state=None, verbose=0,\n",
       "            warm_start=False)"
      ]
     },
     "execution_count": 13,
     "metadata": {},
     "output_type": "execute_result"
    }
   ],
   "source": [
    "rf = RandomForestClassifier()\n",
    "rf.fit(X_train, y_train)"
   ]
  },
  {
   "cell_type": "code",
   "execution_count": 14,
   "metadata": {},
   "outputs": [
    {
     "name": "stdout",
     "output_type": "stream",
     "text": [
      "Features :\n",
      "1 owner_friend\n",
      "2 dist\n",
      "3 nb_copledgers\n",
      "4 amount_copledgers\n",
      "5 desc_score_mean\n",
      "6 amount_friends\n",
      "7 nb_friends\n",
      "8 same_owner\n",
      "9 music\n",
      "10 live-performance\n",
      "11 journalism\n",
      "12 book-and-publishing\n",
      "13 design-and-innovation\n",
      "14 film-and-video\n",
      "15 style\n",
      "16 photography\n",
      "17 social\n",
      "18 web-and-tech\n",
      "19 education\n",
      "20 art\n",
      "21 adventure-and-sport\n",
      "22 food\n",
      "23 ecology\n",
      "\n",
      "\n",
      "Features importances rankées:\n",
      "1. feature 5 (0.303530)\n",
      "2. feature 3 (0.173360)\n",
      "3. feature 4 (0.151257)\n",
      "4. feature 2 (0.081997)\n",
      "5. feature 17 (0.048420)\n",
      "6. feature 23 (0.042961)\n",
      "7. feature 8 (0.034783)\n",
      "8. feature 22 (0.025987)\n",
      "9. feature 11 (0.024978)\n",
      "10. feature 20 (0.020123)\n",
      "11. feature 12 (0.019507)\n",
      "12. feature 9 (0.019201)\n",
      "13. feature 14 (0.013125)\n",
      "14. feature 19 (0.008119)\n",
      "15. feature 21 (0.006543)\n",
      "16. feature 6 (0.006416)\n",
      "17. feature 15 (0.005036)\n",
      "18. feature 13 (0.004840)\n",
      "19. feature 7 (0.003704)\n",
      "20. feature 1 (0.002466)\n",
      "21. feature 16 (0.002277)\n",
      "22. feature 10 (0.001192)\n",
      "23. feature 18 (0.000177)\n"
     ]
    }
   ],
   "source": [
    "importances = rf.feature_importances_\n",
    "std = np.std([rf.feature_importances_ for rf in rf.estimators_],\n",
    "             axis=0)\n",
    "indices = np.argsort(importances)[::-1]\n",
    "\n",
    "# Affichage dans l'ordre des features importantes\n",
    "print(\"Features :\")\n",
    "\n",
    "for i in range(0, len(X_train.columns)):\n",
    "    print(i + 1, X_train.columns[i])\n",
    "\n",
    "print(\"\\n\")\n",
    "print(\"Features importances rankées:\")\n",
    "for f in range(X_train.shape[1]):\n",
    "    print(\"%d. feature %d (%f)\" %\n",
    "          (f + 1, indices[f] + 1, importances[indices[f]]))"
   ]
  },
  {
   "cell_type": "markdown",
   "metadata": {},
   "source": [
    "* Les features catégories telles qu'elles sont ne semblent, en général, pas avoir une grande influence sur le modèle.\n",
    "* Il serait intéréssant de savoir par exemple à combien de projet en tout un utilisateur à contribué."
   ]
  },
  {
   "cell_type": "markdown",
   "metadata": {},
   "source": [
    "## Random Forest"
   ]
  },
  {
   "cell_type": "code",
   "execution_count": 24,
   "metadata": {},
   "outputs": [],
   "source": [
    "rf = RandomForestClassifier(n_estimators=10, criterion='gini', max_depth=10,\n",
    "                            n_jobs=-1, random_state=3, verbose=0, \n",
    "                            class_weight='balanced')\n",
    "rf.fit(X_train, y_train)\n",
    "scores = cross_val_score(rf, X_train, y_train, cv=15)\n",
    "y_pred = rf.predict(X_test)"
   ]
  },
  {
   "cell_type": "markdown",
   "metadata": {},
   "source": [
    "### Choix des paramètres :\n",
    "* **n_estimators** : Le nombre d'arbres.\n",
    "* **criterion** : critère de séparation des branche basé sur Gini. Gini mesure avec quelle fréquence un élément aléatoire de l'ensemble serait mal classé si son étiquette était sélectionnée aléatoirement depuis la distribution des étiquettes dans le sous-ensemble.\n",
    "* **max_depth** : Profondeur maximale des arbres.\n",
    "* **n_jobs** : à -1 pour paralléliser les calculs sur l'ensemble des coeurs de la machine.\n",
    "* **random_state** : La seed du générateur de nombres pseudo-aléatoires à utiliser lors du brassage des données.\n",
    "* **class_weight** : à \"balanced\" utilise les valeurs de y pour ajuster automatiquement les poids inversement proportionnels aux fréquences de classe dans les données d'entrée."
   ]
  },
  {
   "cell_type": "code",
   "execution_count": 25,
   "metadata": {},
   "outputs": [
    {
     "data": {
      "image/png": "[encoded data removed]",
      "text/plain": [
       "<matplotlib.figure.Figure at 0x7f819d84a9e8>"
      ]
     },
     "metadata": {},
     "output_type": "display_data"
    }
   ],
   "source": [
    "# Scores sur cross validation\n",
    "scores = pd.DataFrame(scores)\n",
    "scores.plot()\n",
    "\n",
    "plt.xlabel('CV')\n",
    "plt.ylabel('Score')\n",
    "plt.title(\"Scores sur le train de chaque cross validation\")\n",
    "\n",
    "plt.axis()\n",
    "plt.legend(\"scores\", loc='upper center')\n",
    "plt.show()"
   ]
  },
  {
   "cell_type": "code",
   "execution_count": 21,
   "metadata": {
    "collapsed": true
   },
   "outputs": [],
   "source": [
    "y_pred = pd.DataFrame(y_pred)"
   ]
  },
  {
   "cell_type": "code",
   "execution_count": 22,
   "metadata": {},
   "outputs": [
    {
     "data": {
      "text/html": [
       "<div>\n",
       "<style>\n",
       "    .dataframe thead tr:only-child th {\n",
       "        text-align: right;\n",
       "    }\n",
       "\n",
       "    .dataframe thead th {\n",
       "        text-align: left;\n",
       "    }\n",
       "\n",
       "    .dataframe tbody tr th {\n",
       "        vertical-align: top;\n",
       "    }\n",
       "</style>\n",
       "<table border=\"1\" class=\"dataframe\">\n",
       "  <thead>\n",
       "    <tr style=\"text-align: right;\">\n",
       "      <th></th>\n",
       "      <th>0</th>\n",
       "    </tr>\n",
       "  </thead>\n",
       "  <tbody>\n",
       "    <tr>\n",
       "      <th>count</th>\n",
       "      <td>4623.000000</td>\n",
       "    </tr>\n",
       "    <tr>\n",
       "      <th>mean</th>\n",
       "      <td>0.083279</td>\n",
       "    </tr>\n",
       "    <tr>\n",
       "      <th>std</th>\n",
       "      <td>0.276334</td>\n",
       "    </tr>\n",
       "    <tr>\n",
       "      <th>min</th>\n",
       "      <td>0.000000</td>\n",
       "    </tr>\n",
       "    <tr>\n",
       "      <th>25%</th>\n",
       "      <td>0.000000</td>\n",
       "    </tr>\n",
       "    <tr>\n",
       "      <th>50%</th>\n",
       "      <td>0.000000</td>\n",
       "    </tr>\n",
       "    <tr>\n",
       "      <th>75%</th>\n",
       "      <td>0.000000</td>\n",
       "    </tr>\n",
       "    <tr>\n",
       "      <th>max</th>\n",
       "      <td>1.000000</td>\n",
       "    </tr>\n",
       "  </tbody>\n",
       "</table>\n",
       "</div>"
      ],
      "text/plain": [
       "                 0\n",
       "count  4623.000000\n",
       "mean      0.083279\n",
       "std       0.276334\n",
       "min       0.000000\n",
       "25%       0.000000\n",
       "50%       0.000000\n",
       "75%       0.000000\n",
       "max       1.000000"
      ]
     },
     "execution_count": 22,
     "metadata": {},
     "output_type": "execute_result"
    }
   ],
   "source": [
    "y_pred.describe()"
   ]
  },
  {
   "cell_type": "markdown",
   "metadata": {},
   "source": [
    "### Evaluation du modèle"
   ]
  },
  {
   "cell_type": "code",
   "execution_count": 19,
   "metadata": {},
   "outputs": [
    {
     "data": {
      "image/png": "[encoded data removed]",
      "text/plain": [
       "<matplotlib.figure.Figure at 0x7f36585569e8>"
      ]
     },
     "metadata": {},
     "output_type": "display_data"
    }
   ],
   "source": [
    "# overall accuracy\n",
    "acc = rf.score(X_test, y_test)\n",
    "\n",
    "# get roc/auc info\n",
    "# predict_proba is the porbability that X takes a class\n",
    "Y_score = rf.predict_proba(X_test)[:, 1] \n",
    "fpr = dict()\n",
    "tpr = dict()\n",
    "fpr, tpr, _ = roc_curve(y_test, Y_score)\n",
    "\n",
    "roc_auc = dict()\n",
    "roc_auc = auc(fpr, tpr)\n",
    "\n",
    "# make the plot\n",
    "plt.figure(figsize=(10, 10))\n",
    "plt.plot([0, 1], [0, 1], 'k--')\n",
    "plt.xlim([-0.05, 1.0])\n",
    "plt.ylim([0.0, 1.05])\n",
    "plt.xlabel('False Positive Rate')\n",
    "plt.ylabel('True Positive Rate')\n",
    "plt.grid(True)\n",
    "plt.plot(fpr, tpr, label='AUC = {0}'.format(roc_auc))\n",
    "plt.legend(loc=\"lower right\", shadow=True, fancybox=True)\n",
    "plt.title('ROC curve and AUC')\n",
    "plt.show()"
   ]
  },
  {
   "cell_type": "code",
   "execution_count": 20,
   "metadata": {},
   "outputs": [
    {
     "name": "stdout",
     "output_type": "stream",
     "text": [
      "recall :  0.681999854662\n"
     ]
    }
   ],
   "source": [
    "recall = recall_score(y_test, y_pred, average='macro') \n",
    "print(\"recall : \", recall)"
   ]
  },
  {
   "cell_type": "code",
   "execution_count": 21,
   "metadata": {},
   "outputs": [
    {
     "name": "stdout",
     "output_type": "stream",
     "text": [
      "precision :  0.518419617193\n"
     ]
    }
   ],
   "source": [
    "precision = precision_score(y_test, y_pred, average='macro') \n",
    "print(\"precision : \", precision)"
   ]
  },
  {
   "cell_type": "code",
   "execution_count": 22,
   "metadata": {
    "collapsed": true
   },
   "outputs": [],
   "source": [
    "cm_rf = confusion_matrix(y_test, y_pred)"
   ]
  },
  {
   "cell_type": "code",
   "execution_count": 23,
   "metadata": {},
   "outputs": [
    {
     "data": {
      "text/plain": [
       "array([[4218,  369],\n",
       "       [  20,   16]])"
      ]
     },
     "execution_count": 23,
     "metadata": {},
     "output_type": "execute_result"
    }
   ],
   "source": [
    "cm_rf"
   ]
  },
  {
   "cell_type": "code",
   "execution_count": 24,
   "metadata": {},
   "outputs": [
    {
     "data": {
      "text/plain": [
       "(4218, 369, 20, 16)"
      ]
     },
     "execution_count": 24,
     "metadata": {},
     "output_type": "execute_result"
    }
   ],
   "source": [
    "tn, fp, fn, tp = confusion_matrix(y_test, y_pred).ravel()\n",
    "tn, fp, fn, tp"
   ]
  },
  {
   "cell_type": "code",
   "execution_count": 25,
   "metadata": {},
   "outputs": [
    {
     "data": {
      "text/plain": [
       "0.58906425940090934"
      ]
     },
     "execution_count": 25,
     "metadata": {},
     "output_type": "execute_result"
    }
   ],
   "source": [
    "F1_score = (2 * (recall * precision)) / (precision + recall)\n",
    "F1_score"
   ]
  },
  {
   "cell_type": "markdown",
   "metadata": {},
   "source": [
    "* total de lignes à prédire : 4623\n",
    "* Je prédis ici 16 vrais positifs et 369 faux positifs.\n",
    "* Le modèle prédit trop de 1. Il faut essayer de voir comment viser plus juste en augmentant le nombre TP (16) et diminuant les FP (369).\n",
    "* Les FP représentante 7.9% du test ce n'est donc pas du tout satisfaisant.\n",
    "* Enfin le rappel de 68% (R = TP/(TP+FN)) n'est pas très bon non plus."
   ]
  },
  {
   "cell_type": "code",
   "execution_count": 26,
   "metadata": {},
   "outputs": [
    {
     "data": {
      "text/plain": [
       "0.68199985466172519"
      ]
     },
     "execution_count": 26,
     "metadata": {},
     "output_type": "execute_result"
    }
   ],
   "source": [
    "roc_auc_score(y_test, y_pred)"
   ]
  },
  {
   "cell_type": "markdown",
   "metadata": {},
   "source": [
    "## Régression logistique"
   ]
  },
  {
   "cell_type": "code",
   "execution_count": 27,
   "metadata": {
    "collapsed": true
   },
   "outputs": [],
   "source": [
    "lr = LogisticRegression(penalty='l2', tol=0.001, fit_intercept=False, \n",
    "                        class_weight='balanced', random_state=1, \n",
    "                        verbose=0, warm_start=None, n_jobs=-1)\n",
    "lr.fit(X_train, y_train)\n",
    "scores = cross_val_score(lr, X_train, y_train, cv=15)\n",
    "y_p_lr = lr.predict(X_test)"
   ]
  },
  {
   "cell_type": "markdown",
   "metadata": {},
   "source": [
    "### Choix des paramètres :\n",
    "* **penalty** : Spécifie la norme de la péalisation de la fonction. Ici à l2 fonction par défaut.\n",
    "* **tol** : tolérance du critère d'arrêt.\n",
    "* **fit_intercept** : Peut ajouter un biais dans certains cas si on ajoute la constante de l'ordonnée à l'origine."
   ]
  },
  {
   "cell_type": "code",
   "execution_count": 28,
   "metadata": {},
   "outputs": [
    {
     "data": {
      "text/html": [
       "<div>\n",
       "<style>\n",
       "    .dataframe thead tr:only-child th {\n",
       "        text-align: right;\n",
       "    }\n",
       "\n",
       "    .dataframe thead th {\n",
       "        text-align: left;\n",
       "    }\n",
       "\n",
       "    .dataframe tbody tr th {\n",
       "        vertical-align: top;\n",
       "    }\n",
       "</style>\n",
       "<table border=\"1\" class=\"dataframe\">\n",
       "  <thead>\n",
       "    <tr style=\"text-align: right;\">\n",
       "      <th></th>\n",
       "      <th>0</th>\n",
       "    </tr>\n",
       "  </thead>\n",
       "  <tbody>\n",
       "    <tr>\n",
       "      <th>count</th>\n",
       "      <td>4623.000000</td>\n",
       "    </tr>\n",
       "    <tr>\n",
       "      <th>mean</th>\n",
       "      <td>0.295479</td>\n",
       "    </tr>\n",
       "    <tr>\n",
       "      <th>std</th>\n",
       "      <td>0.456307</td>\n",
       "    </tr>\n",
       "    <tr>\n",
       "      <th>min</th>\n",
       "      <td>0.000000</td>\n",
       "    </tr>\n",
       "    <tr>\n",
       "      <th>25%</th>\n",
       "      <td>0.000000</td>\n",
       "    </tr>\n",
       "    <tr>\n",
       "      <th>50%</th>\n",
       "      <td>0.000000</td>\n",
       "    </tr>\n",
       "    <tr>\n",
       "      <th>75%</th>\n",
       "      <td>1.000000</td>\n",
       "    </tr>\n",
       "    <tr>\n",
       "      <th>max</th>\n",
       "      <td>1.000000</td>\n",
       "    </tr>\n",
       "  </tbody>\n",
       "</table>\n",
       "</div>"
      ],
      "text/plain": [
       "                 0\n",
       "count  4623.000000\n",
       "mean      0.295479\n",
       "std       0.456307\n",
       "min       0.000000\n",
       "25%       0.000000\n",
       "50%       0.000000\n",
       "75%       1.000000\n",
       "max       1.000000"
      ]
     },
     "execution_count": 28,
     "metadata": {},
     "output_type": "execute_result"
    }
   ],
   "source": [
    "y_p_lr = pd.DataFrame(y_p_lr)\n",
    "y_p_lr.describe()"
   ]
  },
  {
   "cell_type": "code",
   "execution_count": 29,
   "metadata": {},
   "outputs": [
    {
     "data": {
      "image/png": "[encoded data removed]",
      "text/plain": [
       "<matplotlib.figure.Figure at 0x7f365691e438>"
      ]
     },
     "metadata": {},
     "output_type": "display_data"
    }
   ],
   "source": [
    "# Scores sur cross validation\n",
    "scores = pd.DataFrame(scores)\n",
    "scores.plot()\n",
    "\n",
    "plt.xlabel('CV')\n",
    "plt.ylabel('Score')\n",
    "plt.title(\"Scores sur le train de chaque cross validation\")\n",
    "\n",
    "plt.axis()\n",
    "plt.legend(\"scores\", loc='upper center')\n",
    "plt.show()"
   ]
  },
  {
   "cell_type": "markdown",
   "metadata": {},
   "source": [
    "### Evaluation du modèle"
   ]
  },
  {
   "cell_type": "code",
   "execution_count": 30,
   "metadata": {
    "collapsed": true
   },
   "outputs": [],
   "source": [
    "# Je fixe le seuil qui m'a semblé être le meilleur compromis à la suite de plusieurs tests.\n",
    "Y_pr = lr.predict_proba(X_test)[:, 1] > 0.7"
   ]
  },
  {
   "cell_type": "code",
   "execution_count": 31,
   "metadata": {},
   "outputs": [
    {
     "data": {
      "image/png": "[encoded data removed]",
      "text/plain": [
       "<matplotlib.figure.Figure at 0x7f36568199b0>"
      ]
     },
     "metadata": {},
     "output_type": "display_data"
    }
   ],
   "source": [
    "# overall accuracy\n",
    "acc = lr.score(X_test, y_test)\n",
    "\n",
    "# get roc/auc info\n",
    "# predict_proba is the porbability that X takes a class\n",
    "Y_score = lr.predict_proba(X_test)[:, 1]\n",
    "fpr = dict()\n",
    "tpr = dict()\n",
    "fpr, tpr, _ = roc_curve(y_test, Y_pr)\n",
    "\n",
    "roc_auc = dict()\n",
    "roc_auc = auc(fpr, tpr)\n",
    "\n",
    "# make the plot\n",
    "plt.figure(figsize=(10, 10))\n",
    "plt.plot([0, 1], [0, 1], 'k--')\n",
    "plt.xlim([-0.05, 1.0])\n",
    "plt.ylim([0.0, 1.05])\n",
    "plt.xlabel('False Positive Rate')\n",
    "plt.ylabel('True Positive Rate')\n",
    "plt.grid(True)\n",
    "plt.plot(fpr, tpr, label='AUC = {0}'.format(roc_auc))\n",
    "plt.legend(loc=\"lower right\", shadow=True, fancybox=True)\n",
    "plt.title('ROC curve and AUC')\n",
    "plt.show()"
   ]
  },
  {
   "cell_type": "code",
   "execution_count": 32,
   "metadata": {},
   "outputs": [
    {
     "data": {
      "text/plain": [
       "array([[4435,  152],\n",
       "       [  26,   10]])"
      ]
     },
     "execution_count": 32,
     "metadata": {},
     "output_type": "execute_result"
    }
   ],
   "source": [
    "mc_lr = confusion_matrix(y_test, Y_pr)\n",
    "mc_lr"
   ]
  },
  {
   "cell_type": "code",
   "execution_count": 33,
   "metadata": {},
   "outputs": [
    {
     "data": {
      "text/plain": [
       "(4435, 152, 26, 10)"
      ]
     },
     "execution_count": 33,
     "metadata": {},
     "output_type": "execute_result"
    }
   ],
   "source": [
    "tn, fp, fn, tp = confusion_matrix(y_test, Y_pr).ravel()\n",
    "tn, fp, fn, tp"
   ]
  },
  {
   "cell_type": "markdown",
   "metadata": {},
   "source": [
    "* Ici le modèle prédit moins de vrais positifs mais vise un peu plus juste en ayant moins de faus positifs que sur le random forest.\n",
    "* La précision (P = VP/(VP+FP)) est un peu meilleure sur la logit."
   ]
  },
  {
   "cell_type": "code",
   "execution_count": 34,
   "metadata": {},
   "outputs": [
    {
     "name": "stdout",
     "output_type": "stream",
     "text": [
      "recall :  0.622320325558\n"
     ]
    }
   ],
   "source": [
    "recall = recall_score(y_test, Y_pr, average='macro')\n",
    "print(\"recall : \", recall)"
   ]
  },
  {
   "cell_type": "code",
   "execution_count": 35,
   "metadata": {},
   "outputs": [
    {
     "name": "stdout",
     "output_type": "stream",
     "text": [
      "precision :  0.52795005272\n"
     ]
    }
   ],
   "source": [
    "precision = precision_score(y_test, Y_pr, average='macro') \n",
    "print(\"precision : \", precision)"
   ]
  },
  {
   "cell_type": "code",
   "execution_count": 36,
   "metadata": {},
   "outputs": [
    {
     "data": {
      "text/plain": [
       "0.57126403477235221"
      ]
     },
     "execution_count": 36,
     "metadata": {},
     "output_type": "execute_result"
    }
   ],
   "source": [
    "F1_score = (2 * (recall * precision)) / (precision + recall)\n",
    "F1_score"
   ]
  },
  {
   "cell_type": "markdown",
   "metadata": {},
   "source": [
    "### Conclusion\n",
    "\n",
    "Je trouve que globalement les précisions ne sont que très moyennes. Le problème de précision des deux modèles, qui ne sont pas très bons globalement dans les deux cas, est dû à un très fort déséquilibre de la classe.\n",
    "\n",
    "Dans notre cas de recommendations il n'est peut être pas vital d'identifier beaucoup de faux positifs. En revanche comme dans tout problèmes de classification il est tout de même plus grave de manquer des vrais positifs. L'important est en effet de bien viser notre cible. Ainsi je pense que le modèle du random forest est un peu meilleur.\n",
    "\n",
    "Le F1 score du random forest étant 2% plus élevé je trouve ce modèle légèrement meilleur.\n",
    "\n",
    "Il faut aussi apprécier en fonction du cas. Il est important de souligner que la régression logistique prédit presque 3 fois moins de faux positifs."
   ]
  },
  {
   "cell_type": "code",
   "execution_count": 37,
   "metadata": {
    "collapsed": true
   },
   "outputs": [],
   "source": [
    "y_pred = pd.DataFrame(y_pred)\n",
    "Y_pr = pd.DataFrame(Y_pr)\n",
    "y_test = pd.DataFrame(y_test)"
   ]
  },
  {
   "cell_type": "code",
   "execution_count": 38,
   "metadata": {
    "collapsed": true
   },
   "outputs": [],
   "source": [
    "result = pd.concat([y_pred, Y_pr, y_test], names=['rf', 'lr', 'contrib'], axis=1)"
   ]
  },
  {
   "cell_type": "code",
   "execution_count": 39,
   "metadata": {
    "collapsed": true
   },
   "outputs": [],
   "source": [
    "# Export des prédictions\n",
    "result.to_csv(path_or_buf='./prédictions.csv', sep=',')"
   ]
  },
  {
   "cell_type": "markdown",
   "metadata": {},
   "source": [
    "### Pistes d'améliorations possibles\n",
    "\n",
    "* Appronfondir la recherche au niveaux des features.\n",
    "* Limiter l'overfitting en rééquilibrant la classe (oversampling).\n",
    "* Grid search pour trouver les meilleurs paramètres.\n",
    "* Stratified k fold afin de proportionner les 1 dans les k fold pour la validation croisée."
   ]
  }
 ],
 "metadata": {
  "kernelspec": {
   "display_name": "Python 3",
   "language": "python",
   "name": "python3"
  },
  "language_info": {
   "codemirror_mode": {
    "name": "ipython",
    "version": 3
   },
   "file_extension": ".py",
   "mimetype": "text/x-python",
   "name": "python",
   "nbconvert_exporter": "python",
   "pygments_lexer": "ipython3",
   "version": "3.6.3"
  }
 },
 "nbformat": 4,
 "nbformat_minor": 2
}
